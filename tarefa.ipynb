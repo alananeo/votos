{
 "cells": [
  {
   "cell_type": "markdown",
   "id": "228bdf1a-e923-494a-8756-4ae6daeeb428",
   "metadata": {},
   "source": [
    "# Aluna: Alana Viana\n",
    "# Tarefa Análise de Votos"
   ]
  },
  {
   "cell_type": "code",
   "execution_count": 1,
   "id": "b77c1cf9-a15f-4791-93bb-6b700a95a245",
   "metadata": {},
   "outputs": [],
   "source": [
    "import pandas as pd\n",
    "import numpy as np\n",
    "import seaborn as sns\n",
    "import matplotlib\n",
    "import matplotlib.pyplot as plt\n",
    "import xgboost as xgb\n",
    "from scipy import stats\n",
    "from scipy.stats import skew\n",
    "from scipy.stats.stats import pearsonr\n",
    "from sklearn import svm, preprocessing\n",
    "from sklearn.linear_model import Ridge, RidgeCV, ElasticNet, LassoCV, LassoLarsCV\n",
    "from sklearn.neighbors import KNeighborsRegressor\n",
    "from sklearn.ensemble import RandomForestRegressor\n",
    "from sklearn.model_selection import cross_val_score\n",
    "from sklearn.metrics import mean_squared_error,  classification_report, confusion_matrix, accuracy_score\n",
    "\n",
    "%config InlineBackend.figure_format = 'retina' # set 'png' here when working on notebook\n",
    "%matplotlib inline"
   ]
  },
  {
   "cell_type": "code",
   "execution_count": 2,
   "id": "aca7daf1-5be2-4d54-9bdb-5b00c88ac75e",
   "metadata": {},
   "outputs": [],
   "source": [
    "df_2006_2010 = pd.read_csv(\"data/eleicoes_2006_a_2010.csv\", index_col = \"nome\")\n",
    "df_2014 = pd.read_csv(\"data/eleicoes_2014.csv\", index_col = \"nome\")\n",
    "all_data = pd.concat([df_2006_2010, df_2014])\n",
    "#all_data = all_data.drop(columns=[\"ano\"])\n",
    "all_data = all_data.drop(columns=[\"sequencial_candidato\"])\n",
    "#all_data = all_data.drop(columns=[\"nome\"])"
   ]
  },
  {
   "cell_type": "markdown",
   "id": "d6e88e0d-97d7-4c19-b47a-15f1e0914954",
   "metadata": {},
   "source": [
    "## Pré-Processamento"
   ]
  },
  {
   "cell_type": "markdown",
   "id": "76619d1a-ab9c-478c-98dc-f75ed266114b",
   "metadata": {},
   "source": [
    "(tratamento de valores ausentes, variáveis categóricas e normalização, quando for o caso)."
   ]
  },
  {
   "cell_type": "markdown",
   "id": "e36a9739-4f19-42df-a2e1-9b20441052e1",
   "metadata": {},
   "source": [
    "#### Normalização "
   ]
  },
  {
   "cell_type": "code",
   "execution_count": 3,
   "id": "04fab3a3-dbcc-4fcf-9496-54ac6c268c62",
   "metadata": {},
   "outputs": [],
   "source": [
    "numeric_feats = all_data.dtypes[all_data.dtypes != \"object\"].index\n",
    "skewed_feats = all_data[numeric_feats].apply(lambda x: skew(x.dropna())) # compute skewness\n",
    "skewed_feats = skewed_feats[skewed_feats > 0.75]\n",
    "skewed_feats = skewed_feats.index\n",
    "all_data[skewed_feats] = np.log1p(all_data[skewed_feats])"
   ]
  },
  {
   "cell_type": "markdown",
   "id": "9364e265-4c77-4a41-bb42-e842d39740ac",
   "metadata": {},
   "source": [
    "#### Dummies e NA"
   ]
  },
  {
   "cell_type": "code",
   "execution_count": 4,
   "id": "446593f8-704d-45a2-84a6-566f4825d940",
   "metadata": {},
   "outputs": [],
   "source": [
    "# aplicando nos dados de 2006 e 2010\n",
    "all_data = pd.get_dummies(all_data) # dummies\n",
    "all_data = all_data.fillna(all_data.mean()) # valores ausentes"
   ]
  },
  {
   "cell_type": "code",
   "execution_count": 5,
   "id": "357013d2-b793-4909-8a19-32d8074f30d4",
   "metadata": {},
   "outputs": [],
   "source": [
    "X_train_2006 = all_data[(all_data[\"ano\"]==2006)]\n",
    "y_train_2006 = X_train_2006[\"votos\"]\n",
    "X_train_2006 = X_train_2006.drop(columns=[\"votos\"])\n",
    "X_train_2006 = X_train_2006.drop(columns=[\"ano\"])\n",
    "\n",
    "\n",
    "X_test_2010 = all_data[(all_data[\"ano\"]==2010)]\n",
    "y_test_2010 = X_test_2010[\"votos\"]\n",
    "X_test_2010 = X_test_2010.drop(columns=[\"votos\"])\n",
    "X_test_2010 = X_test_2010.drop(columns=[\"ano\"])\n",
    "\n",
    "X_train_2006_2010 = all_data[(all_data[\"ano\"]!=2014)]\n",
    "y_train_2006_2010 = X_train_2006_2010[\"votos\"]\n",
    "X_train_2006_2010 = X_train_2006_2010.drop(columns=[\"votos\"])\n",
    "X_train_2006_2010 = X_train_2006_2010.drop(columns=[\"ano\"])\n",
    "\n",
    "X_test_2014 = all_data[(all_data[\"ano\"]==2014)]\n",
    "y_test_2014 = X_test_2014[\"votos\"]\n",
    "X_test_2014 = X_test_2014.drop(columns=[\"votos\"])\n",
    "X_test_2014 = X_test_2014.drop(columns=[\"ano\"])"
   ]
  },
  {
   "cell_type": "markdown",
   "id": "044198ee-a90a-4a65-94e7-74a990c14db9",
   "metadata": {},
   "source": [
    "###  Variáveis e métodos auxiliares"
   ]
  },
  {
   "cell_type": "code",
   "execution_count": 6,
   "id": "ae65fc1f-ad09-4aff-8bd6-d2968dd52c1a",
   "metadata": {},
   "outputs": [],
   "source": [
    "def rmse_cv(model, X, y):\n",
    "    rmse = np.sqrt(-cross_val_score(model, X, y, scoring = \"neg_mean_squared_error\", cv = 5 ))\n",
    "    return (rmse)"
   ]
  },
  {
   "cell_type": "markdown",
   "id": "77f5ff89-16aa-4ab5-a7c2-91f441d1655a",
   "metadata": {},
   "source": [
    "## Modelos de ML "
   ]
  },
  {
   "cell_type": "markdown",
   "id": "84bc349e-d56a-4db2-be34-ca5c9d6e5c6c",
   "metadata": {},
   "source": [
    "Modelos treinados com dados de 2006 e Test com dados de 2014 e comparados entre si"
   ]
  },
  {
   "cell_type": "markdown",
   "id": "107151a9-982a-4254-a0a0-1e7921d42dff",
   "metadata": {},
   "source": [
    "### 1 Modelo: Ridge"
   ]
  },
  {
   "cell_type": "code",
   "execution_count": null,
   "id": "fbaf4f61-b26e-4771-8efc-833c040f3ce9",
   "metadata": {},
   "outputs": [],
   "source": [
    "alphas = [0.00001, 0.0001, 0.001, 0.01, 0.1, 0.05, 0.1, 0.3, 1, 3, 5, 10, 15, 30, 50, 60, 65] # The higher the regularization the less prone our model will be to overfit\n",
    "cv_rmse_ridge = [rmse_cv(Ridge(alpha = alpha), X_train_2006, y_train_2006).mean() \n",
    "            for alpha in alphas]\n",
    "cv_rmse_ridge = pd.Series(cv_rmse_ridge, index = alphas)"
   ]
  },
  {
   "cell_type": "code",
   "execution_count": null,
   "id": "c1179488-2ea2-4ab5-979d-34f5b92e80c3",
   "metadata": {},
   "outputs": [],
   "source": [
    "cv_ridge = pd.Series(cv_rmse_ridge, index = alphas)\n",
    "cv_ridge.plot(title = \"Validation - rmse x alpha\")\n",
    "plt.xlabel(\"alpha\")\n",
    "plt.ylabel(\"rmse\")"
   ]
  },
  {
   "cell_type": "code",
   "execution_count": null,
   "id": "97b5fdbd-f781-4ed6-98a4-da84b97b5101",
   "metadata": {},
   "outputs": [],
   "source": [
    "print(\"rmse Ridge: {}\".format(cv_ridge.min()))"
   ]
  },
  {
   "cell_type": "code",
   "execution_count": null,
   "id": "7a5a4384-ed1f-40b6-aa6d-3a52973245f6",
   "metadata": {},
   "outputs": [],
   "source": [
    "# alpha com o menor rmse\n",
    "print(\"alpha com menor RMSE: {}\".format(cv_ridge.index[[cv_ridge.values == cv_ridge.min()]]))"
   ]
  },
  {
   "cell_type": "code",
   "execution_count": null,
   "id": "fa52c05f-23e6-46dd-9fe5-3f48cc1b3d8b",
   "metadata": {},
   "outputs": [],
   "source": [
    "model_ridge = Ridge(alpha=10)\n",
    "model_ridge.fit(X_train_2006, y_train_2006)"
   ]
  },
  {
   "cell_type": "code",
   "execution_count": null,
   "id": "95766620-9e0d-4471-bbfe-684accb167a0",
   "metadata": {},
   "outputs": [],
   "source": [
    "y_pred_ridge = model_ridge.predict(X_test_2010)"
   ]
  },
  {
   "cell_type": "code",
   "execution_count": null,
   "id": "6b58ef3f-3efe-46c2-a905-614231d56dba",
   "metadata": {},
   "outputs": [],
   "source": [
    "rmse = model_ridge.score(X_train_2006, y_train_2006)\n",
    "print(\"Ridge - Coefficient of determination(R^2) no treino: {}\".format(rmse))"
   ]
  },
  {
   "cell_type": "code",
   "execution_count": null,
   "id": "be6e2ebb-c06d-4374-8d9d-2578e7bfc40a",
   "metadata": {},
   "outputs": [],
   "source": [
    "rmse = model_ridge.score(X_test_2010, y_test_2010)\n",
    "print(\"Ridge - Coefficient of determination(R^2) no teste: {}\".format(rmse))"
   ]
  },
  {
   "cell_type": "code",
   "execution_count": null,
   "id": "99c5dd9a-6846-456f-a251-b8f6f80810c3",
   "metadata": {},
   "outputs": [],
   "source": [
    "rmse = -cross_val_score(model_ridge, X_train_2006, y_train_2006, scoring = \"neg_mean_squared_error\", cv = 5 )\n",
    "print(\"Ridge - RMSE - Cross validation - no treino: {} \".format(rmse.mean()))"
   ]
  },
  {
   "cell_type": "code",
   "execution_count": null,
   "id": "3dd2f39a-65f6-4947-b8b4-8576d749de6c",
   "metadata": {},
   "outputs": [],
   "source": [
    "rmse = -cross_val_score(model_ridge, X_test_2010, y_test_2010, scoring = \"neg_mean_squared_error\", cv = 5 )\n",
    "print(\"Ridge - RMSE - Cross validation - no teste: {} \".format(rmse.mean()))"
   ]
  },
  {
   "cell_type": "markdown",
   "id": "1712d5f6-46a4-4252-a406-b4ce513b7d9a",
   "metadata": {},
   "source": [
    "#### Ridge Coeficientes "
   ]
  },
  {
   "cell_type": "code",
   "execution_count": null,
   "id": "e285a090-ea2c-496a-bc2b-c34e2001160d",
   "metadata": {},
   "outputs": [],
   "source": [
    "coef_ridge = pd.Series(model_ridge.coef_, index = X_train_2006.columns)\n",
    "print(\"Ridge picked \" + str(sum(coef_ridge != 0)) + \" variables and eliminated the other \" +  str(sum(coef_ridge == 0)) + \" variables\")"
   ]
  },
  {
   "cell_type": "code",
   "execution_count": null,
   "id": "fca35481-034a-496c-9754-464d7ba3798c",
   "metadata": {},
   "outputs": [],
   "source": [
    "imp_coef_ridge = pd.concat([coef_ridge.sort_values().head(10),\n",
    "                     coef_ridge.sort_values().tail(10)])\n",
    "\n",
    "matplotlib.rcParams['figure.figsize'] = (8.0, 10.0)\n",
    "imp_coef_ridge.plot(kind = \"barh\")\n",
    "plt.title(\"Coefficients in the Ridge Model\")"
   ]
  },
  {
   "cell_type": "code",
   "execution_count": null,
   "id": "b2c8e9f5-1ae8-430a-ae83-f9977a63945c",
   "metadata": {},
   "outputs": [],
   "source": [
    "matplotlib.rcParams['figure.figsize'] = (6.0, 6.0)\n",
    "preds = pd.DataFrame({\"preds\":model_ridge.predict(X_train_2006), \"true\": y_train_2006})\n",
    "preds[\"residuals\"] = preds[\"true\"] - preds[\"preds\"]\n",
    "preds.plot(x = \"preds\", y = \"residuals\", kind = \"scatter\", title = \"Ridge - residuals x preds\")"
   ]
  },
  {
   "cell_type": "markdown",
   "id": "9a2a633c-4ff5-4833-9427-91ffaf5bd354",
   "metadata": {},
   "source": [
    "### 2 Modelo: Lassso "
   ]
  },
  {
   "cell_type": "code",
   "execution_count": null,
   "id": "69c561f6-b621-4c15-9901-ddf4c73c5a49",
   "metadata": {},
   "outputs": [],
   "source": [
    "model_lasso = LassoCV(alphas = [1, 0.1, 0.001, 0.0005], max_iter=60000000).fit(X_train_2006, y_train_2006)"
   ]
  },
  {
   "cell_type": "code",
   "execution_count": null,
   "id": "dc4786a4-0b10-4981-bc76-0b5ce69edc4e",
   "metadata": {},
   "outputs": [],
   "source": [
    "rmse = model_lasso.score(X_train_2006, y_train_2006)\n",
    "print(\"Lasso - Coefficient of determination(R^2) no treino: {}\".format(rmse))"
   ]
  },
  {
   "cell_type": "code",
   "execution_count": null,
   "id": "b831c2d3-1f5e-4762-ad01-a6bff248cec7",
   "metadata": {},
   "outputs": [],
   "source": [
    "rmse = -cross_val_score(model_ridge, X_train_2006, y_train_2006, scoring = \"neg_mean_squared_error\", cv = 5 )\n",
    "print(\"Lasso - RMSE - Cross validation - no treino: {} \".format(rmse.mean()))"
   ]
  },
  {
   "cell_type": "markdown",
   "id": "b5e9b36c-cc90-47bd-aad9-8356c3dca213",
   "metadata": {},
   "source": [
    "#### Lasso coeficient"
   ]
  },
  {
   "cell_type": "code",
   "execution_count": null,
   "id": "5737665d-9b9a-4dc5-87b9-f7664e783a1d",
   "metadata": {},
   "outputs": [],
   "source": [
    "coef_lasso = pd.Series(model_lasso.coef_, index = X_train_2006.columns)"
   ]
  },
  {
   "cell_type": "code",
   "execution_count": null,
   "id": "22e06436-e15a-45c5-ae9a-6bedc5ecb433",
   "metadata": {},
   "outputs": [],
   "source": [
    "print(\"Lasso picked \" + str(sum(coef_lasso != 0)) + \" variables and eliminated the other \" + str(sum(coef_lasso == 0)) + \" variables\")"
   ]
  },
  {
   "cell_type": "code",
   "execution_count": null,
   "id": "5a10a48d-f785-4c19-84a2-ed615bb2ff3c",
   "metadata": {},
   "outputs": [],
   "source": [
    "imp_coef_lasso = pd.concat([coef_lasso.sort_values().head(10), coef_lasso.sort_values().tail(10)])"
   ]
  },
  {
   "cell_type": "code",
   "execution_count": null,
   "id": "62dbdb2c-cf72-4b6d-bee7-4a43e2398f13",
   "metadata": {},
   "outputs": [],
   "source": [
    "matplotlib.rcParams['figure.figsize'] = (6.0, 8.0)\n",
    "imp_coef_lasso.plot(kind = \"barh\")\n",
    "plt.title(\"Coefficients in the Ridge Model\")"
   ]
  },
  {
   "cell_type": "code",
   "execution_count": null,
   "id": "1da29c3a-4a07-49f9-887a-7756f5e46ff4",
   "metadata": {},
   "outputs": [],
   "source": [
    "matplotlib.rcParams['figure.figsize'] = (6.0, 6.0)\n",
    "preds = pd.DataFrame({\"preds\":model_lasso.predict(X_train_2006), \"true\": y_train_2006})\n",
    "preds[\"residuals\"] = preds[\"true\"] - preds[\"preds\"]\n",
    "preds.plot(x = \"preds\", y = \"residuals\", kind = \"scatter\", title = \"Ridge - residuals x preds\")"
   ]
  },
  {
   "cell_type": "markdown",
   "id": "808628dd-957c-453e-a3cd-b70a4a00574b",
   "metadata": {},
   "source": [
    "### Análise dos resultados Ridge e Lasso"
   ]
  },
  {
   "cell_type": "markdown",
   "id": "6c118133-a160-4a92-8342-2aae5b18106c",
   "metadata": {},
   "source": [
    "O RMSE no modelo Ridge nos dados de treino foi de 0.78, enquanto que o RMSE no modelo Lasso nos dados de treino foi de 0.77."
   ]
  },
  {
   "cell_type": "markdown",
   "id": "e4fce932-25cf-40b5-8f48-c54311880923",
   "metadata": {},
   "source": [
    "### 3 Modelo: SVR"
   ]
  },
  {
   "cell_type": "code",
   "execution_count": null,
   "id": "69730f86-146b-41d5-b3fe-5836f8655eda",
   "metadata": {},
   "outputs": [],
   "source": [
    "# comentei porque demora um pouco para executar\n",
    "\n",
    "#rmse_lista = []\n",
    "#c_lista = []\n",
    "#for i in range(1,3):\n",
    "#    model_svr = svm.SVR(kernel='rbf', C = i)\n",
    "#    model_svr.fit(X_train_2006, y_train_2006)\n",
    "#    score = model_svr.score(X_train_2006, y_train_2006)\n",
    "#    rmse_lista.append(model_svr.score(X_train_2006, y_train_2006))\n",
    "#    c_lista.append(i)\n",
    "#    \n",
    "#s = pd.Series(rmse_lista, index = c_lista)"
   ]
  },
  {
   "cell_type": "code",
   "execution_count": null,
   "id": "f0763cb2-5349-4871-a1b1-ce6951b41fba",
   "metadata": {},
   "outputs": [],
   "source": [
    "#plt.xlabel(\"Parâmetro C\")\n",
    "#plt.ylabel(\"RMSE\")\n",
    "#plt.title(\"RMSE x Parametro C\")\n",
    "#plt.plot(s.index, s.values)"
   ]
  },
  {
   "cell_type": "markdown",
   "id": "843907b8-07c8-42cd-98af-bc1a61086460",
   "metadata": {},
   "source": [
    "O parâmetro C = 1 foi o que teve o menor RMSE no treino"
   ]
  },
  {
   "cell_type": "code",
   "execution_count": null,
   "id": "09efd878-8968-4a3b-be5f-1c184bc5178d",
   "metadata": {},
   "outputs": [],
   "source": [
    "#def testar_kernels(kernels):\n",
    "#    for kernel in kernels:\n",
    "#        classifier = svm.SVR(kernel=kernel, C=1)\n",
    "#        cv_svr = rmse_cv(classifier, X_train_2006, y_train_2006).mean()\n",
    "#        print(\"SVR RMSE CROSS: {}\".format(cv_svr))\n",
    "        \n",
    "#['linear', 'poly', 'rbf', 'sigmoid', 'precomputed']\n",
    "#kernels = ['poly', 'rbf', 'sigmoid'] # o tempo de processamento do kernel linear é alto em relação aos demais\n",
    "#testar_kernels(kernels)"
   ]
  },
  {
   "cell_type": "markdown",
   "id": "2f148759-6fdc-45a0-90fd-cd3c1eeeaebd",
   "metadata": {},
   "source": [
    "O kernel rbf foi o que teve o menor RMSE no treino e o parâmetro c = 1"
   ]
  },
  {
   "cell_type": "code",
   "execution_count": null,
   "id": "2fe2cc90-aff5-4adb-83a4-40d8a3239f2e",
   "metadata": {},
   "outputs": [],
   "source": [
    "model_svr = svm.SVR(kernel='rbf', C = 1)\n",
    "model_svr.fit(X_train_2006, y_train_2006)\n",
    "rmse = model_svr.score(X_train_2006, y_train_2006)\n",
    "print(\"SVR - RMSE - Treino: {}\".format(rmse)) "
   ]
  },
  {
   "cell_type": "code",
   "execution_count": null,
   "id": "6d8b3877-85b3-4f01-a1c9-c69754df7ed4",
   "metadata": {},
   "outputs": [],
   "source": [
    "y_pred_svr = model_svr.predict(X_test_2010)"
   ]
  },
  {
   "cell_type": "code",
   "execution_count": null,
   "id": "6b26a502-a87a-4e2c-9655-802acf705688",
   "metadata": {},
   "outputs": [],
   "source": [
    "rmse = model_svr.score(X_test_2010, y_test_2010)\n",
    "print(\"SVR - RMSE - Test: {}\".format(rmse)) "
   ]
  },
  {
   "cell_type": "code",
   "execution_count": null,
   "id": "30496bbe-acaf-4914-96fe-41b508eaf385",
   "metadata": {},
   "outputs": [],
   "source": [
    "matplotlib.rcParams['figure.figsize'] = (6.0, 6.0)\n",
    "preds = pd.DataFrame({\"preds\":model_svr.predict(X_train_2006), \"true\": y_train_2006})\n",
    "preds[\"residuals\"] = preds[\"true\"] - preds[\"preds\"]\n",
    "preds.plot(x = \"preds\", y = \"residuals\", kind = \"scatter\", title=\"SVR - Residuals x preds\")"
   ]
  },
  {
   "cell_type": "markdown",
   "id": "500479bc-38ca-4602-92da-c37f426736a5",
   "metadata": {},
   "source": [
    "### Análise dos resultados SVR com Ridge e Lasso "
   ]
  },
  {
   "cell_type": "markdown",
   "id": "6e3d887a-5a17-41a9-960e-ba99c0cae64d",
   "metadata": {},
   "source": [
    "O RMSE no modelo Ridge nos dados de treino foi de 0.78, enquanto que o RMSE no modelo Lasso nos dados de treino foi de 0.77. Já o RMSE do SVM no treino foi de 0.76. Portanto o modelo do SVR levando em consideração somente o RMSE é o melhor modelo."
   ]
  },
  {
   "cell_type": "markdown",
   "id": "bd1bbbb5-1cc4-48cc-8c36-08db60f8a7d8",
   "metadata": {},
   "source": [
    "### 4 Modelo: RandomForestRegressor"
   ]
  },
  {
   "cell_type": "code",
   "execution_count": 26,
   "id": "824acd88-e06e-4ba5-9426-94a62ec2764f",
   "metadata": {},
   "outputs": [
    {
     "data": {
      "text/plain": [
       "RandomForestRegressor(max_depth=8, n_estimators=50, random_state=43)"
      ]
     },
     "execution_count": 26,
     "metadata": {},
     "output_type": "execute_result"
    }
   ],
   "source": [
    "model_random = RandomForestRegressor(n_estimators = 50, random_state = 43, max_depth = 8)\n",
    "model_random.fit(X_train_2006, y_train_2006)"
   ]
  },
  {
   "cell_type": "code",
   "execution_count": 27,
   "id": "bf023d24-cfde-4bb9-9a03-5bfb406e5da7",
   "metadata": {},
   "outputs": [
    {
     "name": "stdout",
     "output_type": "stream",
     "text": [
      "RandoForest - RMSE - Treino: 0.8466931102429369\n"
     ]
    }
   ],
   "source": [
    "rmse = model_random.score(X_train_2006, y_train_2006)\n",
    "print(\"RandoForest - RMSE - Treino: {}\".format(rmse))"
   ]
  },
  {
   "cell_type": "code",
   "execution_count": 28,
   "id": "b2209eb0-5c35-498d-8597-b351e436732c",
   "metadata": {},
   "outputs": [
    {
     "name": "stdout",
     "output_type": "stream",
     "text": [
      "RandoForest - RMSE - Treino: 0.8909619042133562\n"
     ]
    }
   ],
   "source": [
    "rmse = -cross_val_score(model_random, X_train_2006, y_train_2006, scoring = \"neg_mean_squared_error\", cv = 5 )\n",
    "print(\"RandoForest - RMSE - Cross -Treino: {}\".format(rmse.mean()))"
   ]
  },
  {
   "cell_type": "code",
   "execution_count": 29,
   "id": "a17258d1-0bbd-4075-a878-5ce053ead519",
   "metadata": {},
   "outputs": [
    {
     "name": "stdout",
     "output_type": "stream",
     "text": [
      "RandoForest - RMSE - Treino: 0.7010254049934429\n"
     ]
    }
   ],
   "source": [
    "rmse = model_random.score(X_test_2010, y_test_2010)\n",
    "print(\"RandoForest - RMSE - Teste: {}\".format(rmse))"
   ]
  },
  {
   "cell_type": "code",
   "execution_count": null,
   "id": "095b9541-efe4-4ffe-b563-1fd8df5974e3",
   "metadata": {},
   "outputs": [],
   "source": [
    "y_pred_random = model_random.predict(X_test_2010) "
   ]
  },
  {
   "cell_type": "code",
   "execution_count": null,
   "id": "03377975-095f-42c7-bfbc-152eaff59763",
   "metadata": {},
   "outputs": [],
   "source": [
    "matplotlib.rcParams['figure.figsize'] = (6.0, 6.0)\n",
    "preds = pd.DataFrame({\"preds\":model_random.predict(X_train_2006), \"true\": y_train_2006})\n",
    "preds[\"residuals\"] = preds[\"true\"] - preds[\"preds\"]\n",
    "preds.plot(x = \"preds\", y = \"residuals\", kind = \"scatter\")"
   ]
  },
  {
   "cell_type": "markdown",
   "id": "13d82db3-5b43-403b-b1db-1e60955df74f",
   "metadata": {},
   "source": [
    "O RMSE no modelo Ridge nos dados de treino foi de 0.78, enquanto que o RMSE no modelo Lasso nos dados de treino foi de 0.77. Já o RMSE do SVM no treino foi de 0.76. Por fim, o RMSE do RandomForest foi de 0.84. Portanto o modelo do SVR levando em consideração somente o RMSE ainda é o melhor modelo."
   ]
  },
  {
   "cell_type": "markdown",
   "id": "bb5a9787-a823-484d-9b40-51b404821d2c",
   "metadata": {},
   "source": [
    "### 5 Modelo: KNN "
   ]
  },
  {
   "cell_type": "code",
   "execution_count": 22,
   "id": "cb86fd9a-a8d7-439d-84bc-1ccc48a420c8",
   "metadata": {},
   "outputs": [
    {
     "data": {
      "text/plain": [
       "KNeighborsRegressor()"
      ]
     },
     "execution_count": 22,
     "metadata": {},
     "output_type": "execute_result"
    }
   ],
   "source": [
    "model_knn = KNeighborsRegressor(n_neighbors=5)  \n",
    "model_knn.fit(X_train_2006, y_train_2006)  "
   ]
  },
  {
   "cell_type": "code",
   "execution_count": 23,
   "id": "4b593059-9d5c-4d77-83f2-9265cca10003",
   "metadata": {},
   "outputs": [
    {
     "name": "stdout",
     "output_type": "stream",
     "text": [
      "KNN - RSME - Treino: 0.8151432980200035 \n"
     ]
    }
   ],
   "source": [
    "print(\"KNN - RSME - Treino: {} \".format(model_knn.score(X_train_2006, y_train_2006)))"
   ]
  },
  {
   "cell_type": "code",
   "execution_count": 25,
   "id": "06f1298c-f62b-4fd3-b806-ecc44ee4ba76",
   "metadata": {},
   "outputs": [
    {
     "name": "stdout",
     "output_type": "stream",
     "text": [
      "KNN - RSME - Teste: 0.6899791467077583 \n"
     ]
    }
   ],
   "source": [
    "print(\"KNN - RSME - Teste: {} \".format(model_knn.score(X_test_2010, y_test_2010)))"
   ]
  },
  {
   "cell_type": "code",
   "execution_count": null,
   "id": "4c04bf6a-c548-4705-9a50-090ef9b627c0",
   "metadata": {},
   "outputs": [],
   "source": [
    "rmse = -cross_val_score(model_knn, X_train_2006, y_train_2006, scoring = \"neg_mean_squared_error\", cv = 5 )\n",
    "print(\"KNN - RSME - Cross - Treino: {} \".format(rmse.mean()))"
   ]
  },
  {
   "cell_type": "code",
   "execution_count": null,
   "id": "0ce0cf78-6f83-4832-b03a-c78b58c11393",
   "metadata": {},
   "outputs": [],
   "source": [
    "matplotlib.rcParams['figure.figsize'] = (6.0, 6.0)\n",
    "preds = pd.DataFrame({\"preds\":model_knn.predict(X_train_2006), \"true\": y_train_2006})\n",
    "preds[\"residuals\"] = preds[\"true\"] - preds[\"preds\"]\n",
    "preds.plot(x = \"preds\", y = \"residuals\", kind = \"scatter\")"
   ]
  },
  {
   "cell_type": "markdown",
   "id": "772460fe-be52-4cd6-a757-628d3c0db06d",
   "metadata": {},
   "source": [
    "Para o KNN o RMSE no Treino foi de 0.81 e no Teste 0.68. Maior do que o do SVR para os dados de Treino."
   ]
  },
  {
   "cell_type": "markdown",
   "id": "3daedc61-0551-497b-8862-f7bed1c8c40c",
   "metadata": {},
   "source": [
    "## Analise dos Resultados"
   ]
  },
  {
   "cell_type": "markdown",
   "id": "7846b753-289e-4843-ab4e-f725c8440f34",
   "metadata": {},
   "source": [
    "Foram avaliados, 5 modelos: Ridge, Lasso, SVR, RandomForest, KNN\n",
    "Respectivamente os RMSEs no treino foram (0.78, 0.77, 0.76, 0.84 e 0.81)\n",
    "Portanto o melhor modelo, somente levando em consideração o RMSE é o SVR ainda é o melhor modelo."
   ]
  },
  {
   "cell_type": "markdown",
   "id": "7ffe11e8-e459-4565-a7c6-f7e90094d4c3",
   "metadata": {},
   "source": [
    "# Re-treino do Modelo com todos os dados (2006 e 2010) e validação com 2014"
   ]
  },
  {
   "cell_type": "code",
   "execution_count": 7,
   "id": "a8ad051d-da81-4a71-83cc-c67cbc90591c",
   "metadata": {},
   "outputs": [
    {
     "data": {
      "text/plain": [
       "SVR(C=1)"
      ]
     },
     "execution_count": 7,
     "metadata": {},
     "output_type": "execute_result"
    }
   ],
   "source": [
    "model_svr = svm.SVR(kernel='rbf', C = 1)\n",
    "model_svr.fit(X_train_2006_2010, y_train_2006_2010)"
   ]
  },
  {
   "cell_type": "code",
   "execution_count": 19,
   "id": "73523b7a-cc06-4796-922b-2ff8664f092f",
   "metadata": {},
   "outputs": [
    {
     "name": "stdout",
     "output_type": "stream",
     "text": [
      "RMSE - SVR - Treino: 0.7713072593971451\n"
     ]
    }
   ],
   "source": [
    "print(\"RMSE - SVR - Treino: {}\".format(model_svr.score(X_train_2006_2010, y_train_2006_2010)))"
   ]
  },
  {
   "cell_type": "code",
   "execution_count": 21,
   "id": "e01972c4-785e-42ce-98da-ab9391f1d00e",
   "metadata": {},
   "outputs": [
    {
     "name": "stdout",
     "output_type": "stream",
     "text": [
      "RMSE - SVR - Teste: 0.4890311953570212\n"
     ]
    }
   ],
   "source": [
    "print(\"RMSE - SVR - Teste: {}\".format(model_svr.score(X_test_2014, y_test_2014)))"
   ]
  },
  {
   "cell_type": "code",
   "execution_count": 9,
   "id": "83ac7d50-bc72-4cde-ab3f-9373845ec9a2",
   "metadata": {},
   "outputs": [
    {
     "data": {
      "text/plain": [
       "<AxesSubplot:xlabel='preds', ylabel='residuals'>"
      ]
     },
     "execution_count": 9,
     "metadata": {},
     "output_type": "execute_result"
    },
    {
     "data": {
      "image/png": "[encoded data removed]",
      "text/plain": [
       "<Figure size 600x600 with 1 Axes>"
      ]
     },
     "metadata": {
      "image/png": {
       "height": 525,
       "width": 534
      }
     },
     "output_type": "display_data"
    }
   ],
   "source": [
    "matplotlib.rcParams['figure.figsize'] = (6.0, 6.0)\n",
    "preds = pd.DataFrame({\"preds\":model_svr.predict(X_train_2006_2010), \"true\": y_train_2006_2010})\n",
    "preds[\"residuals\"] = preds[\"true\"] - preds[\"preds\"]\n",
    "preds.plot(x = \"preds\", y = \"residuals\", kind = \"scatter\")"
   ]
  },
  {
   "cell_type": "code",
   "execution_count": 10,
   "id": "3837ab1f-f45a-4ef7-a28a-7288f53951fc",
   "metadata": {},
   "outputs": [],
   "source": [
    "y_pred_svr_model = model_svr.predict(X_test_2014)"
   ]
  },
  {
   "cell_type": "code",
   "execution_count": 16,
   "id": "e48f791a-4289-40f6-a276-a172c4a58d6a",
   "metadata": {},
   "outputs": [],
   "source": [
    "solution = pd.DataFrame({\"nome\": X_test_2014.index,\"votos\":np.expm1(y_pred_svr_model).astype(int)})\n",
    "solution.to_csv(\"pred_2014.csv\")"
   ]
  },
  {
   "cell_type": "code",
   "execution_count": 17,
   "id": "f29f75c1-aa99-4131-8e86-ef94f3191ad5",
   "metadata": {},
   "outputs": [],
   "source": [
    "solution = pd.DataFrame({\"nome\": X_test_2014.index,\"votos\":np.expm1(y_test_2014).astype(int)})\n",
    "solution.to_csv(\"real_2014.csv\")"
   ]
  }
 ],
 "metadata": {
  "kernelspec": {
   "display_name": "Python 3 (ipykernel)",
   "language": "python",
   "name": "python3"
  },
  "language_info": {
   "codemirror_mode": {
    "name": "ipython",
    "version": 3
   },
   "file_extension": ".py",
   "mimetype": "text/x-python",
   "name": "python",
   "nbconvert_exporter": "python",
   "pygments_lexer": "ipython3",
   "version": "3.7.5"
  }
 },
 "nbformat": 4,
 "nbformat_minor": 5
}
