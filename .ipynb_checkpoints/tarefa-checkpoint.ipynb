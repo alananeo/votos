{
 "cells": [
  {
   "cell_type": "markdown",
   "id": "228bdf1a-e923-494a-8756-4ae6daeeb428",
   "metadata": {},
   "source": [
    "# Aluna: Alana Viana\n",
    "# Tarefa Análise de Votos"
   ]
  },
  {
   "cell_type": "code",
   "execution_count": null,
   "id": "b77c1cf9-a15f-4791-93bb-6b700a95a245",
   "metadata": {},
   "outputs": [],
   "source": [
    "import pandas as pd\n",
    "import numpy as np\n",
    "import seaborn as sns\n",
    "import matplotlib\n",
    "import matplotlib.pyplot as plt\n",
    "import xgboost as xgb\n",
    "from scipy import stats\n",
    "from scipy.stats import skew\n",
    "from scipy.stats.stats import pearsonr\n",
    "from sklearn import svm, preprocessing\n",
    "from sklearn.linear_model import Ridge, RidgeCV, ElasticNet, LassoCV, LassoLarsCV\n",
    "from sklearn.neighbors import KNeighborsRegressor\n",
    "from sklearn.ensemble import RandomForestRegressor\n",
    "from sklearn.model_selection import cross_val_score\n",
    "from sklearn.metrics import mean_squared_error, r2_score\n",
    "\n",
    "%config InlineBackend.figure_format = 'retina' # set 'png' here when working on notebook\n",
    "%matplotlib inline"
   ]
  },
  {
   "cell_type": "code",
   "execution_count": null,
   "id": "aca7daf1-5be2-4d54-9bdb-5b00c88ac75e",
   "metadata": {},
   "outputs": [],
   "source": [
    "df_2006_2010 = pd.read_csv(\"data/eleicoes_2006_a_2010.csv\", index_col = \"nome\")\n",
    "df_2014 = pd.read_csv(\"data/eleicoes_2014.csv\", index_col = \"nome\")\n",
    "all_data = pd.concat([df_2006_2010, df_2014])\n",
    "#all_data = all_data.drop(columns=[\"ano\"])\n",
    "all_data = all_data.drop(columns=[\"sequencial_candidato\"])\n",
    "#all_data = all_data.drop(columns=[\"nome\"])"
   ]
  },
  {
   "cell_type": "markdown",
   "id": "d6e88e0d-97d7-4c19-b47a-15f1e0914954",
   "metadata": {},
   "source": [
    "## Pré-Processamento"
   ]
  },
  {
   "cell_type": "markdown",
   "id": "76619d1a-ab9c-478c-98dc-f75ed266114b",
   "metadata": {},
   "source": [
    "(tratamento de valores ausentes, variáveis categóricas e normalização, quando for o caso)."
   ]
  },
  {
   "cell_type": "markdown",
   "id": "e36a9739-4f19-42df-a2e1-9b20441052e1",
   "metadata": {},
   "source": [
    "#### Normalização "
   ]
  },
  {
   "cell_type": "code",
   "execution_count": null,
   "id": "04fab3a3-dbcc-4fcf-9496-54ac6c268c62",
   "metadata": {},
   "outputs": [],
   "source": [
    "numeric_feats = all_data.dtypes[all_data.dtypes != \"object\"].index\n",
    "skewed_feats = all_data[numeric_feats].apply(lambda x: skew(x.dropna())) # compute skewness\n",
    "skewed_feats = skewed_feats[skewed_feats > 0.75]\n",
    "skewed_feats = skewed_feats.index\n",
    "all_data[skewed_feats] = np.log1p(all_data[skewed_feats])"
   ]
  },
  {
   "cell_type": "markdown",
   "id": "9364e265-4c77-4a41-bb42-e842d39740ac",
   "metadata": {},
   "source": [
    "#### Dummies e NA"
   ]
  },
  {
   "cell_type": "code",
   "execution_count": null,
   "id": "446593f8-704d-45a2-84a6-566f4825d940",
   "metadata": {},
   "outputs": [],
   "source": [
    "# aplicando nos dados de 2006 e 2010\n",
    "all_data = pd.get_dummies(all_data) # dummies\n",
    "all_data = all_data.fillna(all_data.mean()) # valores ausentes"
   ]
  },
  {
   "cell_type": "code",
   "execution_count": null,
   "id": "357013d2-b793-4909-8a19-32d8074f30d4",
   "metadata": {},
   "outputs": [],
   "source": [
    "X_train_2006 = all_data[(all_data[\"ano\"]==2006)]\n",
    "y_train_2006 = X_train_2006[\"votos\"]\n",
    "X_train_2006 = X_train_2006.drop(columns=[\"votos\"])\n",
    "X_train_2006 = X_train_2006.drop(columns=[\"ano\"])\n",
    "\n",
    "X_test_2010 = all_data[(all_data[\"ano\"]==2010)]\n",
    "y_test_2010 = X_test_2010[\"votos\"]\n",
    "X_test_2010 = X_test_2010.drop(columns=[\"votos\"])\n",
    "X_test_2010 = X_test_2010.drop(columns=[\"ano\"])\n",
    "\n",
    "X_train_2006_2010 = all_data[(all_data[\"ano\"]!=2014)]\n",
    "y_train_2006_2010 = X_train_2006_2010[\"votos\"]\n",
    "X_train_2006_2010 = X_train_2006_2010.drop(columns=[\"votos\"])\n",
    "X_train_2006_2010 = X_train_2006_2010.drop(columns=[\"ano\"])\n",
    "\n",
    "X_test_2014 = all_data[(all_data[\"ano\"]==2014)]\n",
    "y_test_2014 = X_test_2014[\"votos\"]\n",
    "X_test_2014 = X_test_2014.drop(columns=[\"votos\"])\n",
    "X_test_2014 = X_test_2014.drop(columns=[\"ano\"])"
   ]
  },
  {
   "cell_type": "markdown",
   "id": "044198ee-a90a-4a65-94e7-74a990c14db9",
   "metadata": {},
   "source": [
    "###  Variáveis e métodos auxiliares"
   ]
  },
  {
   "cell_type": "code",
   "execution_count": null,
   "id": "ae65fc1f-ad09-4aff-8bd6-d2968dd52c1a",
   "metadata": {},
   "outputs": [],
   "source": [
    "def rmse_cv(model, X, y):\n",
    "    rmse = np.sqrt(-cross_val_score(model, X, y, scoring = \"neg_mean_squared_error\", cv = 5 ))\n",
    "    return (rmse)"
   ]
  },
  {
   "cell_type": "code",
   "execution_count": null,
   "id": "5b331593-cf88-4d9f-a339-1a765965f397",
   "metadata": {},
   "outputs": [],
   "source": [
    "df_resultado = pd.DataFrame(columns=[\"modelo\", \"r2_treino\", \"r2_teste\", \"rmse_cross_treino\", \"rmse_cross_treino_std\", \"rmse_cross_teste\", \"rmse_cross_teste_std\"] )"
   ]
  },
  {
   "cell_type": "markdown",
   "id": "77f5ff89-16aa-4ab5-a7c2-91f441d1655a",
   "metadata": {},
   "source": [
    "## Modelos de ML "
   ]
  },
  {
   "cell_type": "markdown",
   "id": "84bc349e-d56a-4db2-be34-ca5c9d6e5c6c",
   "metadata": {},
   "source": [
    "Modelos treinados com dados de 2006 e Test com dados de 2014 e comparados entre si"
   ]
  },
  {
   "cell_type": "markdown",
   "id": "107151a9-982a-4254-a0a0-1e7921d42dff",
   "metadata": {},
   "source": [
    "### 1 Modelo: Ridge"
   ]
  },
  {
   "cell_type": "code",
   "execution_count": null,
   "id": "fbaf4f61-b26e-4771-8efc-833c040f3ce9",
   "metadata": {},
   "outputs": [],
   "source": [
    "alphas = [0.00001, 0.0001, 0.001, 0.01, 0.1, 0.05, 0.1, 0.3, 1, 3, 5, 10, 15, 30, 50, 60, 65] # The higher the regularization the less prone our model will be to overfit\n",
    "cv_rmse_ridge = [rmse_cv(Ridge(alpha = alpha), X_train_2006, y_train_2006).mean() \n",
    "            for alpha in alphas]\n",
    "cv_rmse_ridge = pd.Series(cv_rmse_ridge, index = alphas)"
   ]
  },
  {
   "cell_type": "code",
   "execution_count": null,
   "id": "c1179488-2ea2-4ab5-979d-34f5b92e80c3",
   "metadata": {},
   "outputs": [],
   "source": [
    "cv_ridge = pd.Series(cv_rmse_ridge, index = alphas)\n",
    "cv_ridge.plot(title = \"Validation - rmse x alpha\")\n",
    "plt.xlabel(\"alpha\")\n",
    "plt.ylabel(\"rmse\")"
   ]
  },
  {
   "cell_type": "code",
   "execution_count": null,
   "id": "97b5fdbd-f781-4ed6-98a4-da84b97b5101",
   "metadata": {},
   "outputs": [],
   "source": [
    "print(\"rmse Ridge: {}\".format(cv_ridge.min()))"
   ]
  },
  {
   "cell_type": "code",
   "execution_count": null,
   "id": "7a5a4384-ed1f-40b6-aa6d-3a52973245f6",
   "metadata": {},
   "outputs": [],
   "source": [
    "# alpha com o menor rmse\n",
    "print(\"alpha com menor RMSE: {}\".format(cv_ridge.index[[cv_ridge.values == cv_ridge.min()]]))"
   ]
  },
  {
   "cell_type": "code",
   "execution_count": null,
   "id": "fa52c05f-23e6-46dd-9fe5-3f48cc1b3d8b",
   "metadata": {},
   "outputs": [],
   "source": [
    "model_ridge = Ridge(alpha=10)\n",
    "model_ridge.fit(X_train_2006, y_train_2006)"
   ]
  },
  {
   "cell_type": "code",
   "execution_count": null,
   "id": "95766620-9e0d-4471-bbfe-684accb167a0",
   "metadata": {},
   "outputs": [],
   "source": [
    "y_pred_ridge = model_ridge.predict(X_test_2010)"
   ]
  },
  {
   "cell_type": "code",
   "execution_count": null,
   "id": "6b58ef3f-3efe-46c2-a905-614231d56dba",
   "metadata": {},
   "outputs": [],
   "source": [
    "r2_treino = model_ridge.score(X_train_2006, y_train_2006)\n",
    "print(\"Ridge - R2- Treino: {}\".format(r2_treino))"
   ]
  },
  {
   "cell_type": "code",
   "execution_count": null,
   "id": "be6e2ebb-c06d-4374-8d9d-2578e7bfc40a",
   "metadata": {},
   "outputs": [],
   "source": [
    "r2_teste = model_ridge.score(X_test_2010, y_test_2010)\n",
    "print(\"Ridge - R2 - Teste: {}\".format(r2_teste))"
   ]
  },
  {
   "cell_type": "code",
   "execution_count": null,
   "id": "99c5dd9a-6846-456f-a251-b8f6f80810c3",
   "metadata": {},
   "outputs": [],
   "source": [
    "rmse_cross_treino = -cross_val_score(model_ridge, X_train_2006, y_train_2006, scoring = \"neg_mean_squared_error\", cv = 5 )\n",
    "print(\"Ridge - RMSE - Cross validation - no treino: {} \".format(rmse_cross_treino.mean()))"
   ]
  },
  {
   "cell_type": "code",
   "execution_count": null,
   "id": "3dd2f39a-65f6-4947-b8b4-8576d749de6c",
   "metadata": {},
   "outputs": [],
   "source": [
    "rmse_cross_teste = -cross_val_score(model_ridge, X_test_2010, y_test_2010, scoring = \"neg_mean_squared_error\", cv = 5 )\n",
    "print(\"Ridge - RMSE - Cross validation - no teste: {} \".format(rmse_cross_teste.mean()))"
   ]
  },
  {
   "cell_type": "code",
   "execution_count": null,
   "id": "a4cd8985-0b41-4332-b671-e78d4257ba3b",
   "metadata": {},
   "outputs": [],
   "source": [
    "df_resultado = df_resultado.append({\"modelo\":\"ridge\", \"r2_treino\": r2_treino,\"r2_teste\": r2_teste, \"rmse_cross_treino\": rmse_cross_treino.mean(), \"rmse_cross_treino_std\":rmse_cross_treino.std(), \"rmse_cross_teste\":rmse_cross_teste.mean(), \"rmse_cross_teste_std\":rmse_cross_teste.std()}, ignore_index=True)"
   ]
  },
  {
   "cell_type": "code",
   "execution_count": null,
   "id": "d194336e-1804-4897-9794-9d6ba69e9924",
   "metadata": {},
   "outputs": [],
   "source": [
    "df_resultado"
   ]
  },
  {
   "cell_type": "markdown",
   "id": "1712d5f6-46a4-4252-a406-b4ce513b7d9a",
   "metadata": {},
   "source": [
    "#### Ridge Coeficientes "
   ]
  },
  {
   "cell_type": "code",
   "execution_count": null,
   "id": "e285a090-ea2c-496a-bc2b-c34e2001160d",
   "metadata": {},
   "outputs": [],
   "source": [
    "coef_ridge = pd.Series(model_ridge.coef_, index = X_train_2006.columns)\n",
    "print(\"Ridge picked \" + str(sum(coef_ridge != 0)) + \" variables and eliminated the other \" +  str(sum(coef_ridge == 0)) + \" variables\")"
   ]
  },
  {
   "cell_type": "code",
   "execution_count": null,
   "id": "fca35481-034a-496c-9754-464d7ba3798c",
   "metadata": {},
   "outputs": [],
   "source": [
    "imp_coef_ridge = pd.concat([coef_ridge.sort_values().head(10),\n",
    "                     coef_ridge.sort_values().tail(10)])\n",
    "\n",
    "matplotlib.rcParams['figure.figsize'] = (8.0, 10.0)\n",
    "imp_coef_ridge.plot(kind = \"barh\")\n",
    "plt.title(\"Coefficients in the Ridge Model\")"
   ]
  },
  {
   "cell_type": "code",
   "execution_count": null,
   "id": "b2c8e9f5-1ae8-430a-ae83-f9977a63945c",
   "metadata": {},
   "outputs": [],
   "source": [
    "matplotlib.rcParams['figure.figsize'] = (6.0, 6.0)\n",
    "preds = pd.DataFrame({\"preds\":model_ridge.predict(X_train_2006), \"true\": y_train_2006})\n",
    "preds[\"residuals\"] = preds[\"true\"] - preds[\"preds\"]\n",
    "preds.plot(x = \"preds\", y = \"residuals\", kind = \"scatter\", title = \"Ridge - residuals x preds\")"
   ]
  },
  {
   "cell_type": "markdown",
   "id": "9a2a633c-4ff5-4833-9427-91ffaf5bd354",
   "metadata": {},
   "source": [
    "### 2 Modelo: Lassso "
   ]
  },
  {
   "cell_type": "code",
   "execution_count": null,
   "id": "69c561f6-b621-4c15-9901-ddf4c73c5a49",
   "metadata": {},
   "outputs": [],
   "source": [
    "model_lasso = LassoCV(alphas = [1, 0.1, 0.001, 0.0005], max_iter=60000000).fit(X_train_2006, y_train_2006)"
   ]
  },
  {
   "cell_type": "code",
   "execution_count": null,
   "id": "dc4786a4-0b10-4981-bc76-0b5ce69edc4e",
   "metadata": {},
   "outputs": [],
   "source": [
    "r2_treino_lasso = model_lasso.score(X_train_2006, y_train_2006)\n",
    "print(\"Lasso - R2 - treino: {}\".format(r2_treino_lasso))"
   ]
  },
  {
   "cell_type": "code",
   "execution_count": null,
   "id": "1161905a-7a0b-4791-a211-ae60f2904a8a",
   "metadata": {},
   "outputs": [],
   "source": [
    "r2_teste_lasso = model_lasso.score(X_test_2010, y_test_2010)\n",
    "print(\"Lasso - R2 - Teste: {}\".format(r2_teste_lasso))"
   ]
  },
  {
   "cell_type": "code",
   "execution_count": null,
   "id": "b831c2d3-1f5e-4762-ad01-a6bff248cec7",
   "metadata": {},
   "outputs": [],
   "source": [
    "rmse_cross_treino_lasso = -cross_val_score(model_lasso, X_train_2006, y_train_2006, scoring = \"neg_mean_squared_error\", cv = 5 )\n",
    "print(\"Lasso - RMSE - Cross validation - Treino: {} \".format(rmse_cross_treino_lasso.mean()))"
   ]
  },
  {
   "cell_type": "code",
   "execution_count": null,
   "id": "5c0b365b-d392-40b3-b5ed-755c7d5b188b",
   "metadata": {},
   "outputs": [],
   "source": [
    "rmse_cross_teste_lasso = -cross_val_score(model_lasso, X_test_2010, y_test_2010, scoring = \"neg_mean_squared_error\", cv = 5 )\n",
    "print(\"Lasso - RMSE - Cross validation - Treino: {} \".format(rmse_cross_teste_lasso.mean()))"
   ]
  },
  {
   "cell_type": "code",
   "execution_count": null,
   "id": "ddd6d764-d59c-49af-9427-8a503b5d7eed",
   "metadata": {},
   "outputs": [],
   "source": [
    "df_resultado = df_resultado.append({\"modelo\":\"lasso\", \"r2_treino\": r2_treino_lasso, \"r2_teste\": r2_teste_lasso, \"rmse_cross_treino\": rmse_cross_treino_lasso.mean(), \"rmse_cross_treino_std\":rmse_cross_treino_lasso.std(), \"rmse_cross_teste\":rmse_cross_teste_lasso.mean(), \"rmse_cross_teste_std\":rmse_cross_teste.std() }, ignore_index=True)"
   ]
  },
  {
   "cell_type": "code",
   "execution_count": null,
   "id": "d636cfd1-3393-4956-8944-3aca2ca183c9",
   "metadata": {},
   "outputs": [],
   "source": [
    "df_resultado"
   ]
  },
  {
   "cell_type": "markdown",
   "id": "b5e9b36c-cc90-47bd-aad9-8356c3dca213",
   "metadata": {},
   "source": [
    "#### Lasso coeficient"
   ]
  },
  {
   "cell_type": "code",
   "execution_count": null,
   "id": "5737665d-9b9a-4dc5-87b9-f7664e783a1d",
   "metadata": {},
   "outputs": [],
   "source": [
    "coef_lasso = pd.Series(model_lasso.coef_, index = X_train_2006.columns)"
   ]
  },
  {
   "cell_type": "code",
   "execution_count": null,
   "id": "22e06436-e15a-45c5-ae9a-6bedc5ecb433",
   "metadata": {},
   "outputs": [],
   "source": [
    "print(\"Lasso picked \" + str(sum(coef_lasso != 0)) + \" variables and eliminated the other \" + str(sum(coef_lasso == 0)) + \" variables\")"
   ]
  },
  {
   "cell_type": "code",
   "execution_count": null,
   "id": "5a10a48d-f785-4c19-84a2-ed615bb2ff3c",
   "metadata": {},
   "outputs": [],
   "source": [
    "imp_coef_lasso = pd.concat([coef_lasso.sort_values().head(10), coef_lasso.sort_values().tail(10)])"
   ]
  },
  {
   "cell_type": "code",
   "execution_count": null,
   "id": "62dbdb2c-cf72-4b6d-bee7-4a43e2398f13",
   "metadata": {},
   "outputs": [],
   "source": [
    "matplotlib.rcParams['figure.figsize'] = (6.0, 8.0)\n",
    "imp_coef_lasso.plot(kind = \"barh\")\n",
    "plt.title(\"Coefficients in the Ridge Model\")"
   ]
  },
  {
   "cell_type": "code",
   "execution_count": null,
   "id": "1da29c3a-4a07-49f9-887a-7756f5e46ff4",
   "metadata": {},
   "outputs": [],
   "source": [
    "matplotlib.rcParams['figure.figsize'] = (6.0, 6.0)\n",
    "preds = pd.DataFrame({\"preds\":model_lasso.predict(X_train_2006), \"true\": y_train_2006})\n",
    "preds[\"residuals\"] = preds[\"true\"] - preds[\"preds\"]\n",
    "preds.plot(x = \"preds\", y = \"residuals\", kind = \"scatter\", title = \"Ridge - residuals x preds\")"
   ]
  },
  {
   "cell_type": "markdown",
   "id": "e4fce932-25cf-40b5-8f48-c54311880923",
   "metadata": {},
   "source": [
    "### 3 Modelo: SVR"
   ]
  },
  {
   "cell_type": "code",
   "execution_count": null,
   "id": "69730f86-146b-41d5-b3fe-5836f8655eda",
   "metadata": {},
   "outputs": [],
   "source": [
    "# comentei porque demora um pouco para executar\n",
    "\n",
    "#rmse_lista = []\n",
    "#c_lista = []\n",
    "#for i in range(1,3):\n",
    "#    model_svr = svm.SVR(kernel='rbf', C = i)\n",
    "#    model_svr.fit(X_train_2006, y_train_2006)\n",
    "#    score = model_svr.score(X_train_2006, y_train_2006)\n",
    "#    rmse_lista.append(model_svr.score(X_train_2006, y_train_2006))\n",
    "#    c_lista.append(i)\n",
    "#    \n",
    "#s = pd.Series(rmse_lista, index = c_lista)"
   ]
  },
  {
   "cell_type": "code",
   "execution_count": null,
   "id": "f0763cb2-5349-4871-a1b1-ce6951b41fba",
   "metadata": {},
   "outputs": [],
   "source": [
    "#plt.xlabel(\"Parâmetro C\")\n",
    "#plt.ylabel(\"RMSE\")\n",
    "#plt.title(\"RMSE x Parametro C\")\n",
    "#plt.plot(s.index, s.values)"
   ]
  },
  {
   "cell_type": "markdown",
   "id": "843907b8-07c8-42cd-98af-bc1a61086460",
   "metadata": {},
   "source": [
    "O parâmetro C = 1 foi o que teve o menor RMSE no treino"
   ]
  },
  {
   "cell_type": "code",
   "execution_count": null,
   "id": "09efd878-8968-4a3b-be5f-1c184bc5178d",
   "metadata": {},
   "outputs": [],
   "source": [
    "#def testar_kernels(kernels):\n",
    "#    for kernel in kernels:\n",
    "#        classifier = svm.SVR(kernel=kernel, C=1)\n",
    "#        cv_svr = rmse_cv(classifier, X_train_2006, y_train_2006).mean()\n",
    "#        print(\"SVR RMSE CROSS: {}\".format(cv_svr))\n",
    "        \n",
    "#['linear', 'poly', 'rbf', 'sigmoid', 'precomputed']\n",
    "#kernels = ['poly', 'rbf', 'sigmoid'] # o tempo de processamento do kernel linear é alto em relação aos demais\n",
    "#testar_kernels(kernels)"
   ]
  },
  {
   "cell_type": "markdown",
   "id": "2f148759-6fdc-45a0-90fd-cd3c1eeeaebd",
   "metadata": {},
   "source": [
    "O kernel rbf foi o que teve o menor RMSE no treino e o parâmetro c = 1"
   ]
  },
  {
   "cell_type": "code",
   "execution_count": null,
   "id": "2fe2cc90-aff5-4adb-83a4-40d8a3239f2e",
   "metadata": {},
   "outputs": [],
   "source": [
    "model_svr = svm.SVR(kernel='rbf', C = 1)\n",
    "model_svr.fit(X_train_2006, y_train_2006)"
   ]
  },
  {
   "cell_type": "code",
   "execution_count": null,
   "id": "a21ee9bf-1755-4fc3-8cfc-ade59e479945",
   "metadata": {},
   "outputs": [],
   "source": [
    "r2_treino_svr = model_svr.score(X_train_2006, y_train_2006)\n",
    "print(\"SVR - R2 - Treino: {}\".format(r2_treino_svr)) "
   ]
  },
  {
   "cell_type": "code",
   "execution_count": null,
   "id": "6b26a502-a87a-4e2c-9655-802acf705688",
   "metadata": {},
   "outputs": [],
   "source": [
    "r2_teste_svr = model_svr.score(X_test_2010, y_test_2010)\n",
    "print(\"SVR - R2 - Teste: {}\".format(r2_teste_svr)) "
   ]
  },
  {
   "cell_type": "code",
   "execution_count": null,
   "id": "25959f98-274a-4372-a632-e0d2831eab54",
   "metadata": {},
   "outputs": [],
   "source": [
    "rmse_cross_treino_svr = -cross_val_score(model_svr, X_train_2006, y_train_2006, scoring = \"neg_mean_squared_error\", cv = 5 )\n",
    "print(\"SVR - RMSE - Cross validation - Treino: {} \".format(rmse_cross_treino_svr.mean()))"
   ]
  },
  {
   "cell_type": "code",
   "execution_count": null,
   "id": "7726e797-b3ca-43d6-acc3-0ce7413c1a58",
   "metadata": {},
   "outputs": [],
   "source": [
    "rmse_cross_teste_svr = -cross_val_score(model_svr, X_test_2010, y_test_2010, scoring = \"neg_mean_squared_error\", cv = 5 )\n",
    "print(\"SVR - RMSE - Cross validation - Treino: {} \".format(rmse_cross_teste_svr.mean()))"
   ]
  },
  {
   "cell_type": "code",
   "execution_count": null,
   "id": "d45f8bbf-e347-413a-b4a2-792179d51764",
   "metadata": {},
   "outputs": [],
   "source": [
    "df_resultado = df_resultado.append({\"modelo\":\"svr\", \"r2_treino\": r2_treino_svr, \"r2_teste\": r2_teste_svr, \"rmse_cross_treino\": rmse_cross_treino_svr.mean(), \"rmse_cross_treino_std\":rmse_cross_treino_svr.std(), \"rmse_cross_teste\":rmse_cross_teste_svr.mean(), \"rmse_cross_teste_std\":rmse_cross_teste_svr.std()}, ignore_index=True)"
   ]
  },
  {
   "cell_type": "code",
   "execution_count": null,
   "id": "4ace6193-eb8a-4fd8-9adf-bb81d962a487",
   "metadata": {},
   "outputs": [],
   "source": [
    "df_resultado"
   ]
  },
  {
   "cell_type": "code",
   "execution_count": null,
   "id": "6d8b3877-85b3-4f01-a1c9-c69754df7ed4",
   "metadata": {},
   "outputs": [],
   "source": [
    "y_pred_svr = model_svr.predict(X_test_2010)"
   ]
  },
  {
   "cell_type": "code",
   "execution_count": null,
   "id": "30496bbe-acaf-4914-96fe-41b508eaf385",
   "metadata": {},
   "outputs": [],
   "source": [
    "matplotlib.rcParams['figure.figsize'] = (6.0, 6.0)\n",
    "preds = pd.DataFrame({\"preds\":model_svr.predict(X_train_2006), \"true\": y_train_2006})\n",
    "preds[\"residuals\"] = preds[\"true\"] - preds[\"preds\"]\n",
    "preds.plot(x = \"preds\", y = \"residuals\", kind = \"scatter\", title=\"SVR - Residuals x preds\")"
   ]
  },
  {
   "cell_type": "markdown",
   "id": "bd1bbbb5-1cc4-48cc-8c36-08db60f8a7d8",
   "metadata": {},
   "source": [
    "### 4 Modelo: RandomForestRegressor"
   ]
  },
  {
   "cell_type": "code",
   "execution_count": null,
   "id": "824acd88-e06e-4ba5-9426-94a62ec2764f",
   "metadata": {},
   "outputs": [],
   "source": [
    "model_random = RandomForestRegressor(n_estimators = 50, random_state = 43, max_depth = 8)\n",
    "model_random.fit(X_train_2006, y_train_2006)"
   ]
  },
  {
   "cell_type": "code",
   "execution_count": null,
   "id": "bf023d24-cfde-4bb9-9a03-5bfb406e5da7",
   "metadata": {},
   "outputs": [],
   "source": [
    "r2_treino_random = model_random.score(X_train_2006, y_train_2006)\n",
    "print(\"RandoForest - R2 - Treino: {}\".format(r2_treino_random))"
   ]
  },
  {
   "cell_type": "code",
   "execution_count": null,
   "id": "43d3dd11-d931-4f71-abbf-33309c0b10fd",
   "metadata": {},
   "outputs": [],
   "source": [
    "r2_teste_random = model_random.score(X_test_2010, y_test_2010)\n",
    "print(\"RandoForest - RMSE - Teste: {}\".format(r2_teste_random))"
   ]
  },
  {
   "cell_type": "code",
   "execution_count": null,
   "id": "b2209eb0-5c35-498d-8597-b351e436732c",
   "metadata": {},
   "outputs": [],
   "source": [
    "rmse_cross_treino_random = -cross_val_score(model_random, X_train_2006, y_train_2006, scoring = \"neg_mean_squared_error\", cv = 5 )\n",
    "print(\"RandoForest - RMSE - Cross - Treino: {}\".format(rmse_cross_treino_random.mean()))"
   ]
  },
  {
   "cell_type": "code",
   "execution_count": null,
   "id": "673c4ad0-68cd-4178-8133-c1004d6e63fc",
   "metadata": {},
   "outputs": [],
   "source": [
    "rmse_cross_teste_random = -cross_val_score(model_random, X_test_2010, y_test_2010, scoring = \"neg_mean_squared_error\", cv = 5 )\n",
    "print(\"RandoForest - RMSE - Cross - Teste: {}\".format(rmse_cross_teste_random.mean()))"
   ]
  },
  {
   "cell_type": "code",
   "execution_count": null,
   "id": "f9e53c1f-af0b-49f8-8cb6-0365dfcbe93e",
   "metadata": {},
   "outputs": [],
   "source": [
    "df_resultado = df_resultado.append({\"modelo\":\"random\", \"r2_treino\": r2_treino_random, \"r2_teste\": r2_teste_random, \"rmse_cross_treino\": rmse_cross_treino_random.mean(), \"rmse_cross_treino_std\":rmse_cross_treino_random.std(), \"rmse_cross_teste\":rmse_cross_teste_random.mean(), \"rmse_cross_teste_std\":rmse_cross_teste_random.std()}, ignore_index=True)"
   ]
  },
  {
   "cell_type": "code",
   "execution_count": null,
   "id": "8f680698-071b-4a52-9dc0-3a400a16dd24",
   "metadata": {},
   "outputs": [],
   "source": [
    "df_resultado"
   ]
  },
  {
   "cell_type": "code",
   "execution_count": null,
   "id": "095b9541-efe4-4ffe-b563-1fd8df5974e3",
   "metadata": {},
   "outputs": [],
   "source": [
    "y_pred_random = model_random.predict(X_test_2010) "
   ]
  },
  {
   "cell_type": "code",
   "execution_count": null,
   "id": "03377975-095f-42c7-bfbc-152eaff59763",
   "metadata": {},
   "outputs": [],
   "source": [
    "matplotlib.rcParams['figure.figsize'] = (6.0, 6.0)\n",
    "preds = pd.DataFrame({\"preds\":model_random.predict(X_train_2006), \"true\": y_train_2006})\n",
    "preds[\"residuals\"] = preds[\"true\"] - preds[\"preds\"]\n",
    "preds.plot(x = \"preds\", y = \"residuals\", kind = \"scatter\")"
   ]
  },
  {
   "cell_type": "markdown",
   "id": "bb5a9787-a823-484d-9b40-51b404821d2c",
   "metadata": {},
   "source": [
    "### 5 Modelo: KNN "
   ]
  },
  {
   "cell_type": "code",
   "execution_count": null,
   "id": "cb86fd9a-a8d7-439d-84bc-1ccc48a420c8",
   "metadata": {},
   "outputs": [],
   "source": [
    "model_knn = KNeighborsRegressor(n_neighbors=5)  \n",
    "model_knn.fit(X_train_2006, y_train_2006)  "
   ]
  },
  {
   "cell_type": "code",
   "execution_count": null,
   "id": "4b593059-9d5c-4d77-83f2-9265cca10003",
   "metadata": {},
   "outputs": [],
   "source": [
    "r2_treino_knn = model_knn.score(X_train_2006, y_train_2006)\n",
    "print(\"KNN - R2 - Treino: {} \".format(r2_treino_knn))"
   ]
  },
  {
   "cell_type": "code",
   "execution_count": null,
   "id": "06f1298c-f62b-4fd3-b806-ecc44ee4ba76",
   "metadata": {},
   "outputs": [],
   "source": [
    "r2_teste_knn = model_knn.score(X_test_2010, y_test_2010)\n",
    "print(\"KNN - R2 - Teste: {} \".format(r2_teste_knn))"
   ]
  },
  {
   "cell_type": "code",
   "execution_count": null,
   "id": "4c04bf6a-c548-4705-9a50-090ef9b627c0",
   "metadata": {},
   "outputs": [],
   "source": [
    "rmse_cross_treino_knn = -cross_val_score(model_knn, X_train_2006, y_train_2006, scoring = \"neg_mean_squared_error\", cv = 5 )\n",
    "print(\"KNN - RSME - Cross - Treino: {} \".format(rmse_cross_treino_knn.mean()))"
   ]
  },
  {
   "cell_type": "code",
   "execution_count": null,
   "id": "5aa7d56b-50f3-4355-8ca2-0f7e1b2c21dd",
   "metadata": {},
   "outputs": [],
   "source": [
    "rmse_cross_teste_knn = -cross_val_score(model_knn, X_test_2010, y_test_2010, scoring = \"neg_mean_squared_error\", cv = 5 )\n",
    "print(\"KNN - RSME - Cross - Teste: {} \".format(rmse_cross_teste_knn.mean()))"
   ]
  },
  {
   "cell_type": "code",
   "execution_count": null,
   "id": "e99738c7-47ef-4970-abb9-aa9846defc1b",
   "metadata": {},
   "outputs": [],
   "source": [
    "df_resultado = df_resultado.append({\"modelo\":\"knn\", \"r2_treino\": r2_treino_knn, \"r2_teste\": r2_teste_knn, \"rmse_cross_treino\": rmse_cross_treino_knn.mean(), \"rmse_cross_treino_std\":rmse_cross_treino_knn.std(), \"rmse_cross_teste\":rmse_cross_teste_knn.mean(), \"rmse_cross_teste_std\":rmse_cross_teste_knn.std()}, ignore_index=True)"
   ]
  },
  {
   "cell_type": "code",
   "execution_count": null,
   "id": "85d3ac0e-6dfd-42d6-b643-f20f02cd73d4",
   "metadata": {},
   "outputs": [],
   "source": [
    "df_resultado"
   ]
  },
  {
   "cell_type": "code",
   "execution_count": null,
   "id": "0ce0cf78-6f83-4832-b03a-c78b58c11393",
   "metadata": {},
   "outputs": [],
   "source": [
    "matplotlib.rcParams['figure.figsize'] = (6.0, 6.0)\n",
    "preds = pd.DataFrame({\"preds\":model_knn.predict(X_train_2006), \"true\": y_train_2006})\n",
    "preds[\"residuals\"] = preds[\"true\"] - preds[\"preds\"]\n",
    "preds.plot(x = \"preds\", y = \"residuals\", kind = \"scatter\")"
   ]
  },
  {
   "cell_type": "markdown",
   "id": "3daedc61-0551-497b-8862-f7bed1c8c40c",
   "metadata": {},
   "source": [
    "## Analise dos Resultados"
   ]
  },
  {
   "cell_type": "code",
   "execution_count": null,
   "id": "cafbce33-3dd5-4f89-a8be-2ffcd2caa94f",
   "metadata": {},
   "outputs": [],
   "source": [
    "df_resultado"
   ]
  },
  {
   "cell_type": "markdown",
   "id": "7846b753-289e-4843-ab4e-f725c8440f34",
   "metadata": {},
   "source": [
    "Foram avaliados, 5 modelos: Ridge, Lasso, SVR, RandomForest, KNN. Os melhores modelos analisando o rmse de treino e teste são os SVR (0.90) o random (0.89) no treino e para o teste SVR (0.96) e random (0.95)"
   ]
  },
  {
   "cell_type": "markdown",
   "id": "7ffe11e8-e459-4565-a7c6-f7e90094d4c3",
   "metadata": {},
   "source": [
    "# Re-treino do Modelo SVR com todos os dados (2006 e 2010) e validação com 2014"
   ]
  },
  {
   "cell_type": "code",
   "execution_count": null,
   "id": "a8ad051d-da81-4a71-83cc-c67cbc90591c",
   "metadata": {},
   "outputs": [],
   "source": [
    "model_svr_2014 = svm.SVR(kernel='rbf', C = 1)\n",
    "model_svr_2014.fit(X_train_2006_2010, y_train_2006_2010)"
   ]
  },
  {
   "cell_type": "code",
   "execution_count": null,
   "id": "73523b7a-cc06-4796-922b-2ff8664f092f",
   "metadata": {},
   "outputs": [],
   "source": [
    "r2_treino_svr_2014 = model_svr_2014.score(X_train_2006_2010, y_train_2006_2010)\n",
    "print(\"R2 - SVR - Treino: {}\".format(r2_treino_svr_2014))"
   ]
  },
  {
   "cell_type": "code",
   "execution_count": null,
   "id": "e01972c4-785e-42ce-98da-ab9391f1d00e",
   "metadata": {},
   "outputs": [],
   "source": [
    "r2_test_svr_2014 = model_svr_2014.score(X_test_2014, y_test_2014)\n",
    "print(\"R2 - SVR - Teste: {}\".format(r2_test_svr_2014))"
   ]
  },
  {
   "cell_type": "code",
   "execution_count": null,
   "id": "7130822a-837a-404f-a089-bd7e7e27489d",
   "metadata": {},
   "outputs": [],
   "source": [
    "rmse_cross_treino_svr_2014 = -cross_val_score(model_svr_2014, X_train_2006_2010, y_train_2006_2010, scoring = \"neg_mean_squared_error\", cv = 5 )\n",
    "print(\"SVR - RMSE - Cross validation - Treino: {} \".format(rmse_cross_treino_svr_2014.mean()))"
   ]
  },
  {
   "cell_type": "code",
   "execution_count": null,
   "id": "f46a2969-4ca7-4acf-8fe6-463894429b30",
   "metadata": {},
   "outputs": [],
   "source": [
    "rmse_cross_teste_svr_2014 = -cross_val_score(model_svr_2014, X_test_2014, y_test_2014, scoring = \"neg_mean_squared_error\", cv = 5 )\n",
    "print(\"KNN - RSME - Cross - Teste: {} \".format(rmse_cross_teste_svr_2014.mean()))"
   ]
  },
  {
   "cell_type": "code",
   "execution_count": null,
   "id": "f4133a5a-7f1a-479f-b8b6-c93658685d5d",
   "metadata": {},
   "outputs": [],
   "source": [
    "df_resultado = df_resultado.append({\"modelo\":\"svr_2014\", \"r2_treino\": rmse_treino_svr, \"r2_teste\": rmse_teste_svr, \"rmse_cross_treino\": rmse_cross_treino_svr.mean(), \"rmse_cross_treino_std\":rmse_cross_treino_svr.std(), \"rmse_cross_teste\":rmse_cross_teste_svr.mean(), \"rmse_cross_teste_std\":rmse_cross_teste_svr.std()}, ignore_index=True)"
   ]
  },
  {
   "cell_type": "code",
   "execution_count": null,
   "id": "f2da56a9-c98a-4463-acb4-f35388bf0a4d",
   "metadata": {},
   "outputs": [],
   "source": [
    "df_resultado"
   ]
  },
  {
   "cell_type": "code",
   "execution_count": null,
   "id": "83ac7d50-bc72-4cde-ab3f-9373845ec9a2",
   "metadata": {},
   "outputs": [],
   "source": [
    "matplotlib.rcParams['figure.figsize'] = (6.0, 6.0)\n",
    "preds = pd.DataFrame({\"preds\":model_svr.predict(X_train_2006_2010), \"true\": y_train_2006_2010})\n",
    "preds[\"residuals\"] = preds[\"true\"] - preds[\"preds\"]\n",
    "preds.plot(x = \"preds\", y = \"residuals\", kind = \"scatter\")"
   ]
  },
  {
   "cell_type": "code",
   "execution_count": null,
   "id": "3837ab1f-f45a-4ef7-a28a-7288f53951fc",
   "metadata": {},
   "outputs": [],
   "source": [
    "y_pred_svr_model = model_svr.predict(X_test_2014)"
   ]
  },
  {
   "cell_type": "code",
   "execution_count": null,
   "id": "e48f791a-4289-40f6-a276-a172c4a58d6a",
   "metadata": {},
   "outputs": [],
   "source": [
    "solution = pd.DataFrame({\"nome\": X_test_2014.index,\"votos preditos\":np.expm1(y_pred_svr_model).astype(int)})\n",
    "solution.to_csv(\"pred_2014.csv\")"
   ]
  },
  {
   "cell_type": "code",
   "execution_count": null,
   "id": "f29f75c1-aa99-4131-8e86-ef94f3191ad5",
   "metadata": {},
   "outputs": [],
   "source": [
    "solution = pd.DataFrame({\"nome\": X_test_2014.index,\"votos\":np.expm1(y_test_2014).astype(int)})\n",
    "solution.to_csv(\"real_2014.csv\")"
   ]
  },
  {
   "cell_type": "code",
   "execution_count": null,
   "id": "b2803bde-cdcb-423c-8062-0e93bb215c15",
   "metadata": {},
   "outputs": [],
   "source": [
    "solution = pd.DataFrame({\"nome\": y_test_2014.index,\"votos preditos\":np.expm1(y_pred_svr_model).astype(int),\"votos real\":np.expm1(y_test_2014).astype(int)})\n",
    "solution.to_csv(\"pred_e_real_2014.csv\")"
   ]
  }
 ],
 "metadata": {
  "kernelspec": {
   "display_name": "Python 3 (ipykernel)",
   "language": "python",
   "name": "python3"
  },
  "language_info": {
   "codemirror_mode": {
    "name": "ipython",
    "version": 3
   },
   "file_extension": ".py",
   "mimetype": "text/x-python",
   "name": "python",
   "nbconvert_exporter": "python",
   "pygments_lexer": "ipython3",
   "version": "3.7.5"
  }
 },
 "nbformat": 4,
 "nbformat_minor": 5
}
