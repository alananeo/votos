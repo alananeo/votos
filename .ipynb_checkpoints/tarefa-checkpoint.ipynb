{
 "cells": [
  {
   "cell_type": "markdown",
   "id": "228bdf1a-e923-494a-8756-4ae6daeeb428",
   "metadata": {},
   "source": [
    "# Alana Viana\n",
    "# Tarefa Análise de Votos"
   ]
  },
  {
   "cell_type": "code",
   "execution_count": 1,
   "id": "b77c1cf9-a15f-4791-93bb-6b700a95a245",
   "metadata": {},
   "outputs": [],
   "source": [
    "import pandas as pd\n",
    "import numpy as np\n",
    "import seaborn as sns\n",
    "import matplotlib\n",
    "import matplotlib.pyplot as plt\n",
    "from scipy.stats import skew\n",
    "from scipy.stats.stats import pearsonr\n",
    "from sklearn.linear_model import Ridge, RidgeCV, ElasticNet, LassoCV, LassoLarsCV\n",
    "from sklearn import svm\n",
    "from sklearn.neighbors import KNeighborsClassifier\n",
    "from sklearn.ensemble import RandomForestRegressor\n",
    "from sklearn.model_selection import cross_val_score\n",
    "from sklearn.metrics import mean_squared_error\n",
    "import xgboost as xgb\n",
    "import numpy as np\n",
    "from scipy import stats\n",
    "from sklearn import preprocessing\n",
    "from sklearn.metrics import classification_report, confusion_matrix, accuracy_score\n",
    "\n",
    "%config InlineBackend.figure_format = 'retina' # set 'png' here when working on notebook\n",
    "%matplotlib inline"
   ]
  },
  {
   "cell_type": "code",
   "execution_count": null,
   "id": "357013d2-b793-4909-8a19-32d8074f30d4",
   "metadata": {},
   "outputs": [],
   "source": [
    "train = pd.read_csv(\"data/treino_2006.csv\")"
   ]
  },
  {
   "cell_type": "code",
   "execution_count": null,
   "id": "164af786-b8fa-47fd-bd9e-dd5a55606696",
   "metadata": {},
   "outputs": [],
   "source": [
    "train = train.drop(columns=[\"ano\"])\n",
    "train = train.drop(columns=[\"sequencial_candidato\"])\n",
    "train = train.drop(columns=[\"nome\"])"
   ]
  },
  {
   "cell_type": "code",
   "execution_count": null,
   "id": "aa3909ab-7b4f-44c3-9a28-b4b3c8294e2d",
   "metadata": {},
   "outputs": [],
   "source": [
    "test = pd.read_csv(\"data/teste_2010.csv\")"
   ]
  },
  {
   "cell_type": "code",
   "execution_count": null,
   "id": "7ca3a081-5ed6-4ea2-8f1e-41ee491fd12e",
   "metadata": {},
   "outputs": [],
   "source": [
    "test = test.drop(columns=[\"ano\"])\n",
    "test = test.drop(columns=[\"sequencial_candidato\"])\n",
    "test = test.drop(columns=[\"nome\"])"
   ]
  },
  {
   "cell_type": "code",
   "execution_count": null,
   "id": "b257cd53-f21a-4659-b3fa-785b585acb8f",
   "metadata": {},
   "outputs": [],
   "source": [
    "all_data = pd.read_csv(\"data/dataset_votos.csv\")"
   ]
  },
  {
   "cell_type": "code",
   "execution_count": null,
   "id": "6e1ad4a4-4a57-485e-b5ea-f4921ea2f3ff",
   "metadata": {},
   "outputs": [],
   "source": [
    "all_data = all_data.drop(columns=[\"ano\"])\n",
    "all_data = all_data.drop(columns=[\"sequencial_candidato\"])\n",
    "all_data = all_data.drop(columns=[\"nome\"])"
   ]
  },
  {
   "cell_type": "markdown",
   "id": "d6e88e0d-97d7-4c19-b47a-15f1e0914954",
   "metadata": {},
   "source": [
    "## Pré-Processamento"
   ]
  },
  {
   "cell_type": "markdown",
   "id": "76619d1a-ab9c-478c-98dc-f75ed266114b",
   "metadata": {},
   "source": [
    "(tratamento de valores ausentes, variáveis categóricas e normalização, quando for o caso)."
   ]
  },
  {
   "cell_type": "code",
   "execution_count": null,
   "id": "cfaf83be-b693-4004-a769-91b998b63675",
   "metadata": {},
   "outputs": [],
   "source": [
    "train[\"votos\"] = np.log1p(train[\"votos\"])"
   ]
  },
  {
   "cell_type": "code",
   "execution_count": null,
   "id": "04fab3a3-dbcc-4fcf-9496-54ac6c268c62",
   "metadata": {},
   "outputs": [],
   "source": [
    "numeric_feats = all_data.dtypes[all_data.dtypes != \"object\"].index\n",
    "\n",
    "skewed_feats = train[numeric_feats].apply(lambda x: skew(x.dropna())) # compute skewness\n",
    "skewed_feats = skewed_feats[skewed_feats > 0.75]\n",
    "skewed_feats = skewed_feats.index\n",
    "\n",
    "all_data[skewed_feats] = np.log1p(all_data[skewed_feats])"
   ]
  },
  {
   "cell_type": "code",
   "execution_count": null,
   "id": "446593f8-704d-45a2-84a6-566f4825d940",
   "metadata": {},
   "outputs": [],
   "source": [
    "all_data = pd.get_dummies(all_data) # dummies\n",
    "all_data = all_data.fillna(all_data.mean()) # valores ausentes"
   ]
  },
  {
   "cell_type": "markdown",
   "id": "044198ee-a90a-4a65-94e7-74a990c14db9",
   "metadata": {},
   "source": [
    "###  Variáveis e métodos auxiliares"
   ]
  },
  {
   "cell_type": "code",
   "execution_count": null,
   "id": "41f8bc1b-dfb7-4816-b52a-782e961992f8",
   "metadata": {},
   "outputs": [],
   "source": [
    "X_train = all_data[:train.shape[0]]\n",
    "X_test = all_data[train.shape[0]:]\n",
    "y_train = train.votos\n",
    "y_test = test.votos\n",
    "# encode knn\n",
    "label_encoder = preprocessing.LabelEncoder()\n",
    "y_train_encoded = label_encoder.fit_transform(y_train)"
   ]
  },
  {
   "cell_type": "code",
   "execution_count": null,
   "id": "ae65fc1f-ad09-4aff-8bd6-d2968dd52c1a",
   "metadata": {},
   "outputs": [],
   "source": [
    "def rmse_cv(model):\n",
    "    rmse = np.sqrt(-cross_val_score(model, X_train, y_train, scoring = \"neg_mean_squared_error\", cv = 5 ))\n",
    "    return (rmse)"
   ]
  },
  {
   "cell_type": "code",
   "execution_count": null,
   "id": "3f9f80e9-86b0-4679-974b-8b2afdca9a43",
   "metadata": {},
   "outputs": [],
   "source": [
    "def rmse_cv_knn(model):\n",
    "    rmse = np.sqrt(-cross_val_score(model, X_train, y_train_encoded, scoring = \"neg_mean_squared_error\", cv = 5 ))\n",
    "    return (rmse)"
   ]
  },
  {
   "cell_type": "markdown",
   "id": "77f5ff89-16aa-4ab5-a7c2-91f441d1655a",
   "metadata": {},
   "source": [
    "## Machine Learning"
   ]
  },
  {
   "cell_type": "markdown",
   "id": "107151a9-982a-4254-a0a0-1e7921d42dff",
   "metadata": {},
   "source": [
    "### Ridge Model"
   ]
  },
  {
   "cell_type": "code",
   "execution_count": null,
   "id": "fa52c05f-23e6-46dd-9fe5-3f48cc1b3d8b",
   "metadata": {},
   "outputs": [],
   "source": [
    "model_ridge = Ridge()\n",
    "model_ridge.fit(X_train, y_train)\n",
    "rmse = -cross_val_score(model_ridge, X_train, y_train, scoring = \"neg_mean_squared_error\", cv = 5 )\n",
    "rmse.mean()"
   ]
  },
  {
   "cell_type": "code",
   "execution_count": null,
   "id": "50313690-9b33-4e71-86be-c8b59f9a41fa",
   "metadata": {},
   "outputs": [],
   "source": [
    "alphas = [0.05, 0.1, 0.3, 1, 3, 5, 10, 15, 30, 50, 75] # The higher the regularization the less prone our model will be to overfit\n",
    "cv_ridge = [rmse_cv (Ridge (alpha = alpha)).mean() for alpha in alphas]\n",
    "cv_ridge = pd.Series(cv_ridge, index = alphas)\n",
    "print(\"rmse Ridge: {}\".format(cv_ridge.min()))"
   ]
  },
  {
   "cell_type": "code",
   "execution_count": null,
   "id": "95766620-9e0d-4471-bbfe-684accb167a0",
   "metadata": {},
   "outputs": [],
   "source": [
    "y_pred_ridge = model_ridge.predict(X_test)"
   ]
  },
  {
   "cell_type": "code",
   "execution_count": null,
   "id": "af2266de-f10a-4a72-9b3f-a9d2490ffd5f",
   "metadata": {},
   "outputs": [],
   "source": [
    "print('Acurácia Ridge: ' , accuracy_score(y_test.to_numpy(), y_pred_ridge.astype(\"int64\")))"
   ]
  },
  {
   "cell_type": "code",
   "execution_count": null,
   "id": "36aa41e8-8ffe-4c04-8192-6d649ee81a97",
   "metadata": {},
   "outputs": [],
   "source": [
    "coef_ridge = pd.Series(model_ridge.coef_, index = X_train.columns)"
   ]
  },
  {
   "cell_type": "code",
   "execution_count": null,
   "id": "b2f5ac91-6323-4c67-9872-935f169e686a",
   "metadata": {},
   "outputs": [],
   "source": [
    "y_pred_ridge = model_ridge.predict(X_test)\n",
    "y_pred_ridge = pd.Series(y_pred_ridge)\n",
    "print('Acurácia Ridge: ' , accuracy_score(y_test, y_pred_ridge))"
   ]
  },
  {
   "cell_type": "code",
   "execution_count": null,
   "id": "3660b218-386f-447a-bf01-cfe25757a140",
   "metadata": {},
   "outputs": [],
   "source": [
    "print(\"Ridge picked \" + str(sum(coef_ridge != 0)) + \" variables and eliminated the other \" + str(sum(coef_ridge == 0)) + \" variables\") "
   ]
  },
  {
   "cell_type": "code",
   "execution_count": null,
   "id": "fca35481-034a-496c-9754-464d7ba3798c",
   "metadata": {},
   "outputs": [],
   "source": [
    "imp_coef_ridge = pd.concat([coef_ridge.sort_values().head(10), coef_ridge.sort_values().tail(10)])"
   ]
  },
  {
   "cell_type": "code",
   "execution_count": null,
   "id": "b2c8e9f5-1ae8-430a-ae83-f9977a63945c",
   "metadata": {},
   "outputs": [],
   "source": [
    "matplotlib.rcParams['figure.figsize'] = (6.0, 6.0)\n",
    "preds = pd.DataFrame({\"preds\":model_ridge.predict(X_train), \"true\": y_train})\n",
    "preds[\"residuals\"] = preds[\"true\"] - preds[\"preds\"]\n",
    "preds.plot(x = \"preds\", y = \"residuals\", kind = \"scatter\")"
   ]
  },
  {
   "cell_type": "markdown",
   "id": "9a2a633c-4ff5-4833-9427-91ffaf5bd354",
   "metadata": {},
   "source": [
    "### Lassso Model"
   ]
  },
  {
   "cell_type": "code",
   "execution_count": null,
   "id": "69c561f6-b621-4c15-9901-ddf4c73c5a49",
   "metadata": {},
   "outputs": [],
   "source": [
    "model_lasso = LassoCV(alphas = [1, 0.1, 0.001, 0.0005], max_iter=60000000).fit(X_train, y_train)"
   ]
  },
  {
   "cell_type": "code",
   "execution_count": null,
   "id": "b831c2d3-1f5e-4762-ad01-a6bff248cec7",
   "metadata": {},
   "outputs": [],
   "source": [
    "print(\"rmse Lasso: {}\".format(rmse_cv(model_lasso).mean()))"
   ]
  },
  {
   "cell_type": "code",
   "execution_count": null,
   "id": "5737665d-9b9a-4dc5-87b9-f7664e783a1d",
   "metadata": {},
   "outputs": [],
   "source": [
    "coef_lasso = pd.Series(model_lasso.coef_, index = X_train.columns)"
   ]
  },
  {
   "cell_type": "code",
   "execution_count": null,
   "id": "22e06436-e15a-45c5-ae9a-6bedc5ecb433",
   "metadata": {},
   "outputs": [],
   "source": [
    "print(\"Ridge picked \" + str(sum(coef_lasso != 0)) + \" variables and eliminated the other \" + str(sum(coef_lasso == 0)) + \" variables\")"
   ]
  },
  {
   "cell_type": "code",
   "execution_count": null,
   "id": "5a10a48d-f785-4c19-84a2-ed615bb2ff3c",
   "metadata": {},
   "outputs": [],
   "source": [
    "imp_coef_lasso = pd.concat([coef_lasso.sort_values().head(10), coef_lasso.sort_values().tail(10)])"
   ]
  },
  {
   "cell_type": "code",
   "execution_count": null,
   "id": "62dbdb2c-cf72-4b6d-bee7-4a43e2398f13",
   "metadata": {},
   "outputs": [],
   "source": [
    "matplotlib.rcParams['figure.figsize'] = (6.0, 8.0)\n",
    "imp_coef_lasso.plot(kind = \"barh\")\n",
    "plt.title(\"Coefficients in the Ridge Model\")"
   ]
  },
  {
   "cell_type": "code",
   "execution_count": null,
   "id": "1da29c3a-4a07-49f9-887a-7756f5e46ff4",
   "metadata": {},
   "outputs": [],
   "source": [
    "matplotlib.rcParams['figure.figsize'] = (6.0, 6.0)\n",
    "preds = pd.DataFrame({\"preds\":model_lasso.predict(X_train), \"true\": y_train})\n",
    "preds[\"residuals\"] = preds[\"true\"] - preds[\"preds\"]\n",
    "preds.plot(x = \"preds\", y = \"residuals\", kind = \"scatter\")"
   ]
  },
  {
   "cell_type": "markdown",
   "id": "e4fce932-25cf-40b5-8f48-c54311880923",
   "metadata": {},
   "source": [
    "### SVR Model"
   ]
  },
  {
   "cell_type": "code",
   "execution_count": null,
   "id": "780f4a9d-ca08-4b35-9cfe-f5332d64223d",
   "metadata": {},
   "outputs": [],
   "source": [
    "model_svr = svm.SVR(kernel='rbf', degree=3, gamma='scale', coef0=0.0, tol=0.001, C=1.0, epsilon=0.1, shrinking=True, cache_size=200, verbose=False, max_iter=-1)\n",
    "model_svr.fit(X_train, y_train)\n",
    "rmse = -cross_val_score(model_svr, X_train, y_train, scoring = \"neg_mean_squared_error\", cv = 5 )\n",
    "rmse.mean()"
   ]
  },
  {
   "cell_type": "code",
   "execution_count": null,
   "id": "8ba77648-c428-4c4a-8f42-4ee5caac4a07",
   "metadata": {},
   "outputs": [],
   "source": [
    "model_svr = svm.SVR(kernel='rbf')\n",
    "model_svr.fit(X_train, y_train)\n",
    "rmse = -cross_val_score(model_svr, X_train, y_train, scoring = \"neg_mean_squared_error\", cv = 5 )\n",
    "rmse.mean()"
   ]
  },
  {
   "cell_type": "code",
   "execution_count": null,
   "id": "7f6c01b8-4dbf-4b28-8760-86d6d9a0fa9a",
   "metadata": {},
   "outputs": [],
   "source": [
    "print(\"rmsr SVR Model: {}\".format(rmse_cv(model_svr).mean()))"
   ]
  },
  {
   "cell_type": "code",
   "execution_count": null,
   "id": "6d8b3877-85b3-4f01-a1c9-c69754df7ed4",
   "metadata": {},
   "outputs": [],
   "source": [
    "y_pred_svr = model_svr.predict(X_test)"
   ]
  },
  {
   "cell_type": "code",
   "execution_count": null,
   "id": "0f5c3bd1-5089-4a33-9188-e739f8119c00",
   "metadata": {},
   "outputs": [],
   "source": [
    "print(\"acurácia SVR Model: {}\".format(accuracy_score(y_test.to_numpy(), y_pred_svr.astype('int64'))))"
   ]
  },
  {
   "cell_type": "markdown",
   "id": "dce4a4b5-3259-474e-a499-b53eb665696a",
   "metadata": {},
   "source": [
    "Dica: No SVR o parâmetro C é um trade off (escolha) entre a incorreta classificação de exemplos de treinamento contra a simplicidade da superfície de decisão. Um C baixo torna a superfície de decisão suave, enquanto um C alto visa classificar todos os exemplos de treinamento corretamente, dando ao modelo liberdade para selecionar mais amostras como vetores de suporte. O parâmetro gamma define qual é a influência de um único exemplo de treinamento. É um coeficiente de kernel para 'rbf', 'poli' e 'sigmóide'. Se gamma for definido como 'auto' então 1/n_features serão usados. Valores baixos significam 'alta variância' e maior influência do vetor de suporte e valores altos significam 'baixa variância' e os vetores de suporte não possuem grande influência no processo de classificação. Os parâmetros gama podem ser vistos como o inverso do raio de influência de amostras selecionadas pelo modelo como vetores de suporte."
   ]
  },
  {
   "cell_type": "code",
   "execution_count": null,
   "id": "09efd878-8968-4a3b-be5f-1c184bc5178d",
   "metadata": {},
   "outputs": [],
   "source": [
    "def testar_kernels(kernels):\n",
    "    for kernel in kernels:\n",
    "        classifier = svm.SVR(kernel=kernel)\n",
    "        cv_svr = rmse_cv(classifier).mean()\n",
    "        cv_svr\n",
    "        #cv_svr = pd.Series(cv_svr, index = alphas)\n",
    "        #print(\"rmse SVR: {}\".format(cv_svr.min()))\n",
    "#['linear', 'poly', 'rbf', 'sigmoid', 'precomputed']\n",
    "# o tempo de processamento do kernel linear é alto em relação aos demais\n",
    "kernels = ['poly', 'rbf', 'sigmoid']\n",
    "testar_kernels(kernels)"
   ]
  },
  {
   "cell_type": "code",
   "execution_count": null,
   "id": "36f74c07-c64d-4806-a51e-4cd4b823096d",
   "metadata": {},
   "outputs": [],
   "source": [
    "rmse_cv(model_svr).mean()"
   ]
  },
  {
   "cell_type": "code",
   "execution_count": null,
   "id": "30496bbe-acaf-4914-96fe-41b508eaf385",
   "metadata": {},
   "outputs": [],
   "source": [
    "matplotlib.rcParams['figure.figsize'] = (6.0, 6.0)\n",
    "preds = pd.DataFrame({\"preds\":model_svr.predict(X_train), \"true\": y_train})\n",
    "preds[\"residuals\"] = preds[\"true\"] - preds[\"preds\"]\n",
    "preds.plot(x = \"preds\", y = \"residuals\", kind = \"scatter\")"
   ]
  },
  {
   "cell_type": "markdown",
   "id": "bd1bbbb5-1cc4-48cc-8c36-08db60f8a7d8",
   "metadata": {},
   "source": [
    "### RandomForestRegressor Model"
   ]
  },
  {
   "cell_type": "code",
   "execution_count": null,
   "id": "824acd88-e06e-4ba5-9426-94a62ec2764f",
   "metadata": {},
   "outputs": [],
   "source": [
    "model_random = RandomForestRegressor(n_estimators = 50, random_state = 43, max_depth = 8)\n",
    "model_random.fit(X_train, y_train)"
   ]
  },
  {
   "cell_type": "code",
   "execution_count": null,
   "id": "b2209eb0-5c35-498d-8597-b351e436732c",
   "metadata": {},
   "outputs": [],
   "source": [
    "rmse = -cross_val_score(model_random, X_train, y_train, scoring = \"neg_mean_squared_error\", cv = 5 )\n",
    "rmse.mean()"
   ]
  },
  {
   "cell_type": "code",
   "execution_count": null,
   "id": "f7da32fd-05d0-4a06-a5eb-6fa4147c6bc3",
   "metadata": {},
   "outputs": [],
   "source": [
    "print(\"rmse Random: {}\".format(rmse_cv(model_random).mean()))"
   ]
  },
  {
   "cell_type": "code",
   "execution_count": null,
   "id": "095b9541-efe4-4ffe-b563-1fd8df5974e3",
   "metadata": {},
   "outputs": [],
   "source": [
    "y_pred_random = model_random.predict(X_test) "
   ]
  },
  {
   "cell_type": "code",
   "execution_count": null,
   "id": "a168ad4d-e66e-4826-a593-c33295ed2156",
   "metadata": {},
   "outputs": [],
   "source": [
    "accuracy_score(y_test.to_numpy(), y_pred_random.astype(\"int64\"))"
   ]
  },
  {
   "cell_type": "code",
   "execution_count": null,
   "id": "03377975-095f-42c7-bfbc-152eaff59763",
   "metadata": {},
   "outputs": [],
   "source": [
    "matplotlib.rcParams['figure.figsize'] = (6.0, 6.0)\n",
    "preds = pd.DataFrame({\"preds\":model_random.predict(X_train), \"true\": y_train})\n",
    "preds[\"residuals\"] = preds[\"true\"] - preds[\"preds\"]\n",
    "preds.plot(x = \"preds\", y = \"residuals\", kind = \"scatter\")"
   ]
  },
  {
   "cell_type": "markdown",
   "id": "bb5a9787-a823-484d-9b40-51b404821d2c",
   "metadata": {},
   "source": [
    "### KNN Model"
   ]
  },
  {
   "cell_type": "code",
   "execution_count": null,
   "id": "cb86fd9a-a8d7-439d-84bc-1ccc48a420c8",
   "metadata": {},
   "outputs": [],
   "source": [
    "model_knn = KNeighborsClassifier(n_neighbors=5)  \n",
    "model_knn.fit(X_train, y_train_encoded)  "
   ]
  },
  {
   "cell_type": "code",
   "execution_count": null,
   "id": "4c04bf6a-c548-4705-9a50-090ef9b627c0",
   "metadata": {},
   "outputs": [],
   "source": [
    "rmse = -cross_val_score(model_knn, X_train, y_train_encoded, scoring = \"neg_mean_squared_error\", cv = 5 )\n",
    "rmse.mean()"
   ]
  },
  {
   "cell_type": "code",
   "execution_count": null,
   "id": "eaaf8dc9-2538-40b9-8a14-00a72e89f64d",
   "metadata": {},
   "outputs": [],
   "source": [
    "print(\"rmse Random: {}\".format(rmse_cv_knn(model_knn).mean()))"
   ]
  },
  {
   "cell_type": "code",
   "execution_count": null,
   "id": "0ce0cf78-6f83-4832-b03a-c78b58c11393",
   "metadata": {},
   "outputs": [],
   "source": [
    "matplotlib.rcParams['figure.figsize'] = (6.0, 6.0)\n",
    "preds = pd.DataFrame({\"preds\":model_knn.predict(X_train), \"true\": y_train})\n",
    "preds[\"residuals\"] = preds[\"true\"] - preds[\"preds\"]\n",
    "preds.plot(x = \"preds\", y = \"residuals\", kind = \"scatter\")"
   ]
  },
  {
   "cell_type": "markdown",
   "id": "3daedc61-0551-497b-8862-f7bed1c8c40c",
   "metadata": {},
   "source": [
    "## Analise dos Resultados"
   ]
  },
  {
   "cell_type": "markdown",
   "id": "7846b753-289e-4843-ab4e-f725c8440f34",
   "metadata": {},
   "source": [
    "Dentre os modelos avaliados, qual foi o que deu o melhor resultado nos dados de 2014 em termos de RMSE? Justifique bem sua resposta\n",
    "\n",
    "Entre o RandomForest (rmse=0.02) SVR (rmse=0.32), o Ridge(0.91) e o Lasso(0.32), o melhor modelo foi o RandomForest pois ele tinha um RMSE menor."
   ]
  },
  {
   "cell_type": "markdown",
   "id": "eb2e6d49-0f17-4b90-815f-db5154156075",
   "metadata": {},
   "source": [
    "## XGBOOST ( em construção )"
   ]
  },
  {
   "cell_type": "code",
   "execution_count": null,
   "id": "9eeac607-f25f-4385-9f2a-522e901612f6",
   "metadata": {},
   "outputs": [],
   "source": [
    "dtrain = xgb.DMatrix(X_train, label = y_train)\n",
    "dtest = xgb.DMatrix(X_test)\n",
    "\n",
    "params = {\"max_depth\":2, \"eta\":0.1}\n",
    "model = xgb.cv(params, dtrain, num_boost_round=500, early_stopping_rounds=100)"
   ]
  },
  {
   "cell_type": "code",
   "execution_count": null,
   "id": "21893331-d4c3-43f3-a98e-e70062f44b8f",
   "metadata": {},
   "outputs": [],
   "source": [
    "model.loc[30:,[\"test-rmse-mean\", \"train-rmse-mean\"]].plot()"
   ]
  },
  {
   "cell_type": "code",
   "execution_count": null,
   "id": "d21bb118-1b80-4def-b5b7-7af87395f64c",
   "metadata": {},
   "outputs": [],
   "source": [
    "model_xgb = xgb.XGBRegressor(n_estimators=360, max_depth=2, learning_rate=0.1)\n",
    "model_xgb.fit(X_train, y)"
   ]
  },
  {
   "cell_type": "code",
   "execution_count": null,
   "id": "6f3f388e-03c7-4660-8ac1-1feee41db6a0",
   "metadata": {},
   "outputs": [],
   "source": [
    "xgb_preds = np.expm1(model_xgb.predict(X_test))\n",
    "lasso_preds = np.expm1(model_lasso.predict(X_test))"
   ]
  },
  {
   "cell_type": "code",
   "execution_count": null,
   "id": "156bdd70-a26b-4482-b52f-c72682267d27",
   "metadata": {},
   "outputs": [],
   "source": [
    "predictions = pd.DataFrame({\"xgb\": xgb_preds, \"lasso\":lasso_preds})\n",
    "predictions = predictions[(np.abs(stats.zscore(predictions)) < 3).all(axis=1)]\n",
    "predictions.plot(x= \"xgb\", y = \"lasso\", kind = \"scatter\")"
   ]
  },
  {
   "cell_type": "code",
   "execution_count": null,
   "id": "e66fdf0e-4205-481a-9b21-eb38c6f02a1c",
   "metadata": {},
   "outputs": [],
   "source": [
    "preds = 0.7*lasso_preds + 0.3*xgb_preds"
   ]
  },
  {
   "cell_type": "code",
   "execution_count": null,
   "id": "0c5711f8-5f8d-4568-bc03-7353a175bce6",
   "metadata": {},
   "outputs": [],
   "source": [
    "solution = pd.DataFrame({\"nome\":test.index, \"votos\":preds})\n",
    "solution.to_csv(\"saida.csv\", index = False)"
   ]
  }
 ],
 "metadata": {
  "kernelspec": {
   "display_name": "Python 3 (ipykernel)",
   "language": "python",
   "name": "python3"
  },
  "language_info": {
   "codemirror_mode": {
    "name": "ipython",
    "version": 3
   },
   "file_extension": ".py",
   "mimetype": "text/x-python",
   "name": "python",
   "nbconvert_exporter": "python",
   "pygments_lexer": "ipython3",
   "version": "3.7.5"
  }
 },
 "nbformat": 4,
 "nbformat_minor": 5
}
